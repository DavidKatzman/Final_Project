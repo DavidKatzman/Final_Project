{
 "cells": [
  {
   "cell_type": "markdown",
   "metadata": {},
   "source": [
    "# Import Packages"
   ]
  },
  {
   "cell_type": "code",
   "execution_count": 42,
   "metadata": {},
   "outputs": [],
   "source": [
    "import numpy as np\n",
    "import pandas as pd\n",
    "import seaborn as sns\n",
    "import matplotlib.pyplot as plt\n",
    "%matplotlib inline"
   ]
  },
  {
   "cell_type": "markdown",
   "metadata": {},
   "source": [
    "# Load in Data"
   ]
  },
  {
   "cell_type": "markdown",
   "metadata": {},
   "source": [
    "## Basic Stats "
   ]
  },
  {
   "cell_type": "code",
   "execution_count": 2,
   "metadata": {},
   "outputs": [],
   "source": [
    "bs89 = pd.read_csv('basic_stats_18_19.csv', index_col = 0)"
   ]
  },
  {
   "cell_type": "code",
   "execution_count": 3,
   "metadata": {
    "scrolled": true
   },
   "outputs": [
    {
     "data": {
      "text/plain": [
       "Index(['Player', 'Age', 'Tm', 'Pos', 'GP', 'G', 'A', 'PTS▼', '+/-', 'PIM',\n",
       "       'PS', 'EV', 'PP', 'SH', 'GW', 'EV.1', 'PP.1', 'SH.1', 'S', 'S%', 'TOI',\n",
       "       'ATOI', 'BLK', 'HIT', 'FOW', 'FOL', 'FO%'],\n",
       "      dtype='object')"
      ]
     },
     "execution_count": 3,
     "metadata": {},
     "output_type": "execute_result"
    }
   ],
   "source": [
    "bs89.columns"
   ]
  },
  {
   "cell_type": "code",
   "execution_count": 4,
   "metadata": {},
   "outputs": [],
   "source": [
    "bs89.drop(['PS'], axis = 1, inplace = True)"
   ]
  },
  {
   "cell_type": "code",
   "execution_count": 5,
   "metadata": {},
   "outputs": [],
   "source": [
    "bs89.rename(columns = {'PTS▼': 'PTS', 'EV': 'EVP', 'PP': 'PPP', 'SH': 'SHP', 'EV.1': 'EVA', 'PP.1': 'PPA', 'SH.1': 'SHA'}, inplace = True)"
   ]
  },
  {
   "cell_type": "markdown",
   "metadata": {},
   "source": [
    "## Advanced Stats "
   ]
  },
  {
   "cell_type": "code",
   "execution_count": 6,
   "metadata": {},
   "outputs": [],
   "source": [
    "as89 = pd.read_csv('advanced_stats_18_19.csv', index_col = 0)"
   ]
  },
  {
   "cell_type": "code",
   "execution_count": 7,
   "metadata": {},
   "outputs": [
    {
     "data": {
      "text/html": [
       "<div>\n",
       "<style scoped>\n",
       "    .dataframe tbody tr th:only-of-type {\n",
       "        vertical-align: middle;\n",
       "    }\n",
       "\n",
       "    .dataframe tbody tr th {\n",
       "        vertical-align: top;\n",
       "    }\n",
       "\n",
       "    .dataframe thead th {\n",
       "        text-align: right;\n",
       "    }\n",
       "</style>\n",
       "<table border=\"1\" class=\"dataframe\">\n",
       "  <thead>\n",
       "    <tr style=\"text-align: right;\">\n",
       "      <th></th>\n",
       "      <th>Player</th>\n",
       "      <th>Age</th>\n",
       "      <th>Tm</th>\n",
       "      <th>Pos</th>\n",
       "      <th>GP▼</th>\n",
       "      <th>CF</th>\n",
       "      <th>CA</th>\n",
       "      <th>CF%</th>\n",
       "      <th>CF% rel</th>\n",
       "      <th>FF</th>\n",
       "      <th>...</th>\n",
       "      <th>PDO</th>\n",
       "      <th>oZS%</th>\n",
       "      <th>dZS%</th>\n",
       "      <th>TOI/60</th>\n",
       "      <th>TOI(EV)</th>\n",
       "      <th>TK</th>\n",
       "      <th>GV</th>\n",
       "      <th>E+/-</th>\n",
       "      <th>SAtt.</th>\n",
       "      <th>Thru%</th>\n",
       "    </tr>\n",
       "    <tr>\n",
       "      <th>Rk</th>\n",
       "      <th></th>\n",
       "      <th></th>\n",
       "      <th></th>\n",
       "      <th></th>\n",
       "      <th></th>\n",
       "      <th></th>\n",
       "      <th></th>\n",
       "      <th></th>\n",
       "      <th></th>\n",
       "      <th></th>\n",
       "      <th></th>\n",
       "      <th></th>\n",
       "      <th></th>\n",
       "      <th></th>\n",
       "      <th></th>\n",
       "      <th></th>\n",
       "      <th></th>\n",
       "      <th></th>\n",
       "      <th></th>\n",
       "      <th></th>\n",
       "      <th></th>\n",
       "    </tr>\n",
       "  </thead>\n",
       "  <tbody>\n",
       "    <tr>\n",
       "      <td>1</td>\n",
       "      <td>Marcus Pettersson\\pettema01</td>\n",
       "      <td>22</td>\n",
       "      <td>TOT</td>\n",
       "      <td>D</td>\n",
       "      <td>84</td>\n",
       "      <td>1205</td>\n",
       "      <td>1190</td>\n",
       "      <td>50.3</td>\n",
       "      <td>3.5</td>\n",
       "      <td>889</td>\n",
       "      <td>...</td>\n",
       "      <td>101.8</td>\n",
       "      <td>49.9</td>\n",
       "      <td>50.1</td>\n",
       "      <td>16:41</td>\n",
       "      <td>14:56</td>\n",
       "      <td>24</td>\n",
       "      <td>43</td>\n",
       "      <td>5.5</td>\n",
       "      <td>221</td>\n",
       "      <td>39.4</td>\n",
       "    </tr>\n",
       "    <tr>\n",
       "      <td>2</td>\n",
       "      <td>Kevin Fiala\\fialake01</td>\n",
       "      <td>22</td>\n",
       "      <td>TOT</td>\n",
       "      <td>LW</td>\n",
       "      <td>83</td>\n",
       "      <td>1165</td>\n",
       "      <td>1044</td>\n",
       "      <td>52.7</td>\n",
       "      <td>0.9</td>\n",
       "      <td>888</td>\n",
       "      <td>...</td>\n",
       "      <td>96.4</td>\n",
       "      <td>63.6</td>\n",
       "      <td>36.4</td>\n",
       "      <td>15:38</td>\n",
       "      <td>13:24</td>\n",
       "      <td>44</td>\n",
       "      <td>68</td>\n",
       "      <td>-3.2</td>\n",
       "      <td>316</td>\n",
       "      <td>55.1</td>\n",
       "    </tr>\n",
       "    <tr>\n",
       "      <td>3</td>\n",
       "      <td>Ryan Hartman\\hartmry01</td>\n",
       "      <td>24</td>\n",
       "      <td>TOT</td>\n",
       "      <td>RW</td>\n",
       "      <td>83</td>\n",
       "      <td>973</td>\n",
       "      <td>952</td>\n",
       "      <td>50.5</td>\n",
       "      <td>-1.3</td>\n",
       "      <td>712</td>\n",
       "      <td>...</td>\n",
       "      <td>100.3</td>\n",
       "      <td>44.5</td>\n",
       "      <td>55.5</td>\n",
       "      <td>13:07</td>\n",
       "      <td>12:23</td>\n",
       "      <td>35</td>\n",
       "      <td>38</td>\n",
       "      <td>-7.7</td>\n",
       "      <td>245</td>\n",
       "      <td>59.2</td>\n",
       "    </tr>\n",
       "    <tr>\n",
       "      <td>4</td>\n",
       "      <td>Sebastian Aho\\ahose01</td>\n",
       "      <td>21</td>\n",
       "      <td>CAR</td>\n",
       "      <td>C</td>\n",
       "      <td>82</td>\n",
       "      <td>1556</td>\n",
       "      <td>1164</td>\n",
       "      <td>57.2</td>\n",
       "      <td>3.4</td>\n",
       "      <td>1191</td>\n",
       "      <td>...</td>\n",
       "      <td>100.7</td>\n",
       "      <td>59.2</td>\n",
       "      <td>40.8</td>\n",
       "      <td>20:09</td>\n",
       "      <td>16:03</td>\n",
       "      <td>81</td>\n",
       "      <td>64</td>\n",
       "      <td>21.7</td>\n",
       "      <td>466</td>\n",
       "      <td>52.1</td>\n",
       "    </tr>\n",
       "    <tr>\n",
       "      <td>5</td>\n",
       "      <td>Josh Anderson\\anderjo05</td>\n",
       "      <td>24</td>\n",
       "      <td>CBJ</td>\n",
       "      <td>RW</td>\n",
       "      <td>82</td>\n",
       "      <td>1129</td>\n",
       "      <td>1136</td>\n",
       "      <td>49.8</td>\n",
       "      <td>-0.4</td>\n",
       "      <td>854</td>\n",
       "      <td>...</td>\n",
       "      <td>103.9</td>\n",
       "      <td>46.4</td>\n",
       "      <td>53.6</td>\n",
       "      <td>17:01</td>\n",
       "      <td>14:19</td>\n",
       "      <td>46</td>\n",
       "      <td>19</td>\n",
       "      <td>5.3</td>\n",
       "      <td>383</td>\n",
       "      <td>60.1</td>\n",
       "    </tr>\n",
       "  </tbody>\n",
       "</table>\n",
       "<p>5 rows × 25 columns</p>\n",
       "</div>"
      ],
      "text/plain": [
       "                         Player  Age   Tm Pos  GP▼    CF    CA   CF%  CF% rel  \\\n",
       "Rk                                                                              \n",
       "1   Marcus Pettersson\\pettema01   22  TOT   D   84  1205  1190  50.3      3.5   \n",
       "2         Kevin Fiala\\fialake01   22  TOT  LW   83  1165  1044  52.7      0.9   \n",
       "3        Ryan Hartman\\hartmry01   24  TOT  RW   83   973   952  50.5     -1.3   \n",
       "4         Sebastian Aho\\ahose01   21  CAR   C   82  1556  1164  57.2      3.4   \n",
       "5       Josh Anderson\\anderjo05   24  CBJ  RW   82  1129  1136  49.8     -0.4   \n",
       "\n",
       "      FF  ...    PDO  oZS%  dZS%  TOI/60  TOI(EV)  TK  GV  E+/- SAtt. Thru%  \n",
       "Rk        ...                                                                \n",
       "1    889  ...  101.8  49.9  50.1   16:41    14:56  24  43   5.5   221  39.4  \n",
       "2    888  ...   96.4  63.6  36.4   15:38    13:24  44  68  -3.2   316  55.1  \n",
       "3    712  ...  100.3  44.5  55.5   13:07    12:23  35  38  -7.7   245  59.2  \n",
       "4   1191  ...  100.7  59.2  40.8   20:09    16:03  81  64  21.7   466  52.1  \n",
       "5    854  ...  103.9  46.4  53.6   17:01    14:19  46  19   5.3   383  60.1  \n",
       "\n",
       "[5 rows x 25 columns]"
      ]
     },
     "execution_count": 7,
     "metadata": {},
     "output_type": "execute_result"
    }
   ],
   "source": [
    "as89.head()"
   ]
  },
  {
   "cell_type": "code",
   "execution_count": 8,
   "metadata": {},
   "outputs": [
    {
     "data": {
      "text/plain": [
       "Index(['Player', 'Age', 'Tm', 'Pos', 'GP▼', 'CF', 'CA', 'CF%', 'CF% rel', 'FF',\n",
       "       'FA', 'FF%', 'FF% rel', 'oiSH%', 'oiSV%', 'PDO', 'oZS%', 'dZS%',\n",
       "       'TOI/60', 'TOI(EV)', 'TK', 'GV', 'E+/-', 'SAtt.', 'Thru%'],\n",
       "      dtype='object')"
      ]
     },
     "execution_count": 8,
     "metadata": {},
     "output_type": "execute_result"
    }
   ],
   "source": [
    "as89.columns"
   ]
  },
  {
   "cell_type": "code",
   "execution_count": 9,
   "metadata": {},
   "outputs": [],
   "source": [
    "as89.drop(['Age', 'Tm', 'Pos', 'GP▼', 'CF% rel'], axis = 1, inplace = True)"
   ]
  },
  {
   "cell_type": "markdown",
   "metadata": {},
   "source": [
    "## Time On Ice Stats "
   ]
  },
  {
   "cell_type": "code",
   "execution_count": 10,
   "metadata": {},
   "outputs": [],
   "source": [
    "toi89 = pd.read_csv('TOI_18_19.csv', index_col = 0)"
   ]
  },
  {
   "cell_type": "code",
   "execution_count": 11,
   "metadata": {},
   "outputs": [
    {
     "data": {
      "text/plain": [
       "Index(['Player', 'Tm', 'Pos', 'Shift', 'GP▼', 'Unnamed: 6', 'TOI', 'CF% Rel',\n",
       "       'GF/60', 'GA/60', 'Unnamed: 11', 'TOI.1', 'CF% Rel.1', 'GF/60.1',\n",
       "       'GA/60.1', 'Unnamed: 16', 'TOI.2', 'CF% Rel.2', 'GF/60.2', 'GA/60.2'],\n",
       "      dtype='object')"
      ]
     },
     "execution_count": 11,
     "metadata": {},
     "output_type": "execute_result"
    }
   ],
   "source": [
    "toi89.columns"
   ]
  },
  {
   "cell_type": "code",
   "execution_count": 12,
   "metadata": {},
   "outputs": [],
   "source": [
    "toi89.drop(['Tm', 'Pos', 'GP▼', 'Unnamed: 6', 'Unnamed: 11', 'Unnamed: 16'], axis = 1, inplace = True)"
   ]
  },
  {
   "cell_type": "code",
   "execution_count": 13,
   "metadata": {},
   "outputs": [],
   "source": [
    "toi89.rename(columns = {'TOI': 'EV_TOI', 'CF% Rel': 'EV_CF%_Rel', \n",
    "                        'GF/60': 'EV_GFP60', 'GA/60': 'EV_GAP60', \n",
    "                        'TOI.1': 'PP_TOI', 'CF% Rel.1': 'PP_CF%_Rel',\n",
    "                        'GF/60.1': 'PP_GFP60', 'GA/60.1': 'PP_GAP60',\n",
    "                        'TOI.2': 'SH_TOI', 'CF% Rel.2': 'SH_CF%_Rel',\n",
    "                        'GF/60.2': 'SH_GFP60', 'GA/60.2': 'SH_GAP60'}, inplace = True)"
   ]
  },
  {
   "cell_type": "markdown",
   "metadata": {},
   "source": [
    "## Misc Stats"
   ]
  },
  {
   "cell_type": "code",
   "execution_count": 14,
   "metadata": {},
   "outputs": [],
   "source": [
    "misc89 = pd.read_csv('misc_18_19.csv', index_col = 0)"
   ]
  },
  {
   "cell_type": "code",
   "execution_count": 15,
   "metadata": {},
   "outputs": [
    {
     "data": {
      "text/plain": [
       "Index(['Player', 'Age', 'Tm', 'Pos', 'GP▼', 'GC', 'G', 'A', 'PTS', 'GC.1',\n",
       "       'PIM', 'S', 'G.1', 'A.1', 'PTS.1', 'GC.2', 'TGF', 'PGF', 'TGA', 'PGA',\n",
       "       '+/-', 'xGF', 'xGA', 'E+/-', 'OPS', 'DPS', 'PS', 'Att.', 'Made', 'Miss',\n",
       "       'Pct.'],\n",
       "      dtype='object')"
      ]
     },
     "execution_count": 15,
     "metadata": {},
     "output_type": "execute_result"
    }
   ],
   "source": [
    "misc89.columns"
   ]
  },
  {
   "cell_type": "code",
   "execution_count": 16,
   "metadata": {},
   "outputs": [],
   "source": [
    "misc89.drop(['Age', 'Tm', 'Pos', 'GP▼', '+/-', 'E+/-', 'Att.', 'Made', 'Miss', 'Pct.'], axis = 1, inplace = True)"
   ]
  },
  {
   "cell_type": "code",
   "execution_count": 17,
   "metadata": {},
   "outputs": [],
   "source": [
    "misc89.rename(columns = {'G': 'GPG', 'A': 'APG', 'PTS': 'PTSPG', 'GC.1': 'GCPG', 'PIM': 'PIMPG', 'S': 'SPG', \n",
    "                         'G.1': 'AG', 'A.1': 'AA', 'PTS.1': 'APTS', 'GC.2': 'AGC'}, inplace = True)"
   ]
  },
  {
   "cell_type": "markdown",
   "metadata": {},
   "source": [
    "# Merge DataFrames"
   ]
  },
  {
   "cell_type": "code",
   "execution_count": 18,
   "metadata": {},
   "outputs": [],
   "source": [
    "df1 = pd.merge(bs89, as89, on = ['Player'])"
   ]
  },
  {
   "cell_type": "code",
   "execution_count": 19,
   "metadata": {},
   "outputs": [],
   "source": [
    "df2 = pd.merge(df1, toi89, on = ['Player'])"
   ]
  },
  {
   "cell_type": "code",
   "execution_count": 20,
   "metadata": {},
   "outputs": [],
   "source": [
    "df = pd.merge(df2, misc89, on = ['Player'])"
   ]
  },
  {
   "cell_type": "code",
   "execution_count": 21,
   "metadata": {},
   "outputs": [
    {
     "data": {
      "text/html": [
       "<div>\n",
       "<style scoped>\n",
       "    .dataframe tbody tr th:only-of-type {\n",
       "        vertical-align: middle;\n",
       "    }\n",
       "\n",
       "    .dataframe tbody tr th {\n",
       "        vertical-align: top;\n",
       "    }\n",
       "\n",
       "    .dataframe thead th {\n",
       "        text-align: right;\n",
       "    }\n",
       "</style>\n",
       "<table border=\"1\" class=\"dataframe\">\n",
       "  <thead>\n",
       "    <tr style=\"text-align: right;\">\n",
       "      <th></th>\n",
       "      <th>Player</th>\n",
       "      <th>Age</th>\n",
       "      <th>Tm</th>\n",
       "      <th>Pos</th>\n",
       "      <th>GP</th>\n",
       "      <th>G</th>\n",
       "      <th>A</th>\n",
       "      <th>PTS</th>\n",
       "      <th>+/-</th>\n",
       "      <th>PIM</th>\n",
       "      <th>...</th>\n",
       "      <th>AGC</th>\n",
       "      <th>TGF</th>\n",
       "      <th>PGF</th>\n",
       "      <th>TGA</th>\n",
       "      <th>PGA</th>\n",
       "      <th>xGF</th>\n",
       "      <th>xGA</th>\n",
       "      <th>OPS</th>\n",
       "      <th>DPS</th>\n",
       "      <th>PS</th>\n",
       "    </tr>\n",
       "  </thead>\n",
       "  <tbody>\n",
       "    <tr>\n",
       "      <td>0</td>\n",
       "      <td>Nikita Kucherov\\kucheni01</td>\n",
       "      <td>25</td>\n",
       "      <td>TBL</td>\n",
       "      <td>RW</td>\n",
       "      <td>82</td>\n",
       "      <td>41</td>\n",
       "      <td>87</td>\n",
       "      <td>128</td>\n",
       "      <td>24</td>\n",
       "      <td>62</td>\n",
       "      <td>...</td>\n",
       "      <td>46</td>\n",
       "      <td>155</td>\n",
       "      <td>60</td>\n",
       "      <td>71</td>\n",
       "      <td>1</td>\n",
       "      <td>71.5</td>\n",
       "      <td>62.9</td>\n",
       "      <td>12.3</td>\n",
       "      <td>2.3</td>\n",
       "      <td>14.6</td>\n",
       "    </tr>\n",
       "    <tr>\n",
       "      <td>1</td>\n",
       "      <td>Connor McDavid\\mcdavco01</td>\n",
       "      <td>22</td>\n",
       "      <td>EDM</td>\n",
       "      <td>C</td>\n",
       "      <td>78</td>\n",
       "      <td>41</td>\n",
       "      <td>75</td>\n",
       "      <td>116</td>\n",
       "      <td>3</td>\n",
       "      <td>20</td>\n",
       "      <td>...</td>\n",
       "      <td>43</td>\n",
       "      <td>142</td>\n",
       "      <td>42</td>\n",
       "      <td>107</td>\n",
       "      <td>10</td>\n",
       "      <td>73.7</td>\n",
       "      <td>71.7</td>\n",
       "      <td>10.8</td>\n",
       "      <td>2.1</td>\n",
       "      <td>13.0</td>\n",
       "    </tr>\n",
       "    <tr>\n",
       "      <td>2</td>\n",
       "      <td>Patrick Kane\\kanepa01</td>\n",
       "      <td>30</td>\n",
       "      <td>CHI</td>\n",
       "      <td>RW</td>\n",
       "      <td>81</td>\n",
       "      <td>44</td>\n",
       "      <td>66</td>\n",
       "      <td>110</td>\n",
       "      <td>2</td>\n",
       "      <td>22</td>\n",
       "      <td>...</td>\n",
       "      <td>43</td>\n",
       "      <td>142</td>\n",
       "      <td>42</td>\n",
       "      <td>98</td>\n",
       "      <td>0</td>\n",
       "      <td>68.6</td>\n",
       "      <td>83.3</td>\n",
       "      <td>10.2</td>\n",
       "      <td>1.6</td>\n",
       "      <td>11.8</td>\n",
       "    </tr>\n",
       "    <tr>\n",
       "      <td>3</td>\n",
       "      <td>Leon Draisaitl\\draisle01</td>\n",
       "      <td>23</td>\n",
       "      <td>EDM</td>\n",
       "      <td>C</td>\n",
       "      <td>82</td>\n",
       "      <td>50</td>\n",
       "      <td>55</td>\n",
       "      <td>105</td>\n",
       "      <td>2</td>\n",
       "      <td>52</td>\n",
       "      <td>...</td>\n",
       "      <td>43</td>\n",
       "      <td>141</td>\n",
       "      <td>44</td>\n",
       "      <td>109</td>\n",
       "      <td>14</td>\n",
       "      <td>69.1</td>\n",
       "      <td>71.0</td>\n",
       "      <td>10.4</td>\n",
       "      <td>2.2</td>\n",
       "      <td>12.6</td>\n",
       "    </tr>\n",
       "    <tr>\n",
       "      <td>4</td>\n",
       "      <td>Sidney Crosby\\crosbsi01</td>\n",
       "      <td>31</td>\n",
       "      <td>PIT</td>\n",
       "      <td>C</td>\n",
       "      <td>79</td>\n",
       "      <td>35</td>\n",
       "      <td>65</td>\n",
       "      <td>100</td>\n",
       "      <td>18</td>\n",
       "      <td>36</td>\n",
       "      <td>...</td>\n",
       "      <td>37</td>\n",
       "      <td>139</td>\n",
       "      <td>43</td>\n",
       "      <td>83</td>\n",
       "      <td>5</td>\n",
       "      <td>71.1</td>\n",
       "      <td>52.6</td>\n",
       "      <td>8.9</td>\n",
       "      <td>2.4</td>\n",
       "      <td>11.4</td>\n",
       "    </tr>\n",
       "  </tbody>\n",
       "</table>\n",
       "<p>5 rows × 78 columns</p>\n",
       "</div>"
      ],
      "text/plain": [
       "                      Player  Age   Tm Pos  GP   G   A  PTS  +/-  PIM  ...  \\\n",
       "0  Nikita Kucherov\\kucheni01   25  TBL  RW  82  41  87  128   24   62  ...   \n",
       "1   Connor McDavid\\mcdavco01   22  EDM   C  78  41  75  116    3   20  ...   \n",
       "2      Patrick Kane\\kanepa01   30  CHI  RW  81  44  66  110    2   22  ...   \n",
       "3   Leon Draisaitl\\draisle01   23  EDM   C  82  50  55  105    2   52  ...   \n",
       "4    Sidney Crosby\\crosbsi01   31  PIT   C  79  35  65  100   18   36  ...   \n",
       "\n",
       "   AGC  TGF  PGF  TGA  PGA   xGF   xGA   OPS  DPS    PS  \n",
       "0   46  155   60   71    1  71.5  62.9  12.3  2.3  14.6  \n",
       "1   43  142   42  107   10  73.7  71.7  10.8  2.1  13.0  \n",
       "2   43  142   42   98    0  68.6  83.3  10.2  1.6  11.8  \n",
       "3   43  141   44  109   14  69.1  71.0  10.4  2.2  12.6  \n",
       "4   37  139   43   83    5  71.1  52.6   8.9  2.4  11.4  \n",
       "\n",
       "[5 rows x 78 columns]"
      ]
     },
     "execution_count": 21,
     "metadata": {},
     "output_type": "execute_result"
    }
   ],
   "source": [
    "df.head()"
   ]
  },
  {
   "cell_type": "markdown",
   "metadata": {},
   "source": [
    "# Clean DataFrame"
   ]
  },
  {
   "cell_type": "code",
   "execution_count": 22,
   "metadata": {},
   "outputs": [],
   "source": [
    "df.drop(['Age', 'Tm'], axis = 1, inplace = True)"
   ]
  },
  {
   "cell_type": "code",
   "execution_count": 23,
   "metadata": {},
   "outputs": [
    {
     "data": {
      "text/plain": [
       "Index(['Player', 'Pos', 'GP', 'G', 'A', 'PTS', '+/-', 'PIM', 'EVP', 'PPP',\n",
       "       'SHP', 'GW', 'EVA', 'PPA', 'SHA', 'S', 'S%', 'TOI', 'ATOI', 'BLK',\n",
       "       'HIT', 'FOW', 'FOL', 'FO%', 'CF', 'CA', 'CF%', 'FF', 'FA', 'FF%',\n",
       "       'FF% rel', 'oiSH%', 'oiSV%', 'PDO', 'oZS%', 'dZS%', 'TOI/60', 'TOI(EV)',\n",
       "       'TK', 'GV', 'E+/-', 'SAtt.', 'Thru%', 'Shift', 'EV_TOI', 'EV_CF%_Rel',\n",
       "       'EV_GFP60', 'EV_GAP60', 'PP_TOI', 'PP_CF%_Rel', 'PP_GFP60', 'PP_GAP60',\n",
       "       'SH_TOI', 'SH_CF%_Rel', 'SH_GFP60', 'SH_GAP60', 'GC', 'GPG', 'APG',\n",
       "       'PTSPG', 'GCPG', 'PIMPG', 'SPG', 'AG', 'AA', 'APTS', 'AGC', 'TGF',\n",
       "       'PGF', 'TGA', 'PGA', 'xGF', 'xGA', 'OPS', 'DPS', 'PS'],\n",
       "      dtype='object')"
      ]
     },
     "execution_count": 23,
     "metadata": {},
     "output_type": "execute_result"
    }
   ],
   "source": [
    "df.columns"
   ]
  },
  {
   "cell_type": "code",
   "execution_count": 24,
   "metadata": {},
   "outputs": [],
   "source": [
    "def clean_player_name(row):\n",
    "    return row.split('\\\\')[0]"
   ]
  },
  {
   "cell_type": "code",
   "execution_count": 25,
   "metadata": {},
   "outputs": [],
   "source": [
    "df['Player'] = df['Player'].apply(lambda x: clean_player_name(x))"
   ]
  },
  {
   "cell_type": "markdown",
   "metadata": {},
   "source": [
    "# EDA"
   ]
  },
  {
   "cell_type": "code",
   "execution_count": 26,
   "metadata": {},
   "outputs": [
    {
     "data": {
      "text/plain": [
       "count    906.000000\n",
       "mean      50.502208\n",
       "std       28.743685\n",
       "min        1.000000\n",
       "25%       23.000000\n",
       "50%       60.000000\n",
       "75%       78.000000\n",
       "max       84.000000\n",
       "Name: GP, dtype: float64"
      ]
     },
     "execution_count": 26,
     "metadata": {},
     "output_type": "execute_result"
    }
   ],
   "source": [
    "df['GP'].describe()"
   ]
  },
  {
   "cell_type": "code",
   "execution_count": 27,
   "metadata": {},
   "outputs": [
    {
     "data": {
      "text/plain": [
       "0    19:58\n",
       "1    22:50\n",
       "2    22:29\n",
       "3    22:35\n",
       "4    21:00\n",
       "Name: ATOI, dtype: object"
      ]
     },
     "execution_count": 27,
     "metadata": {},
     "output_type": "execute_result"
    }
   ],
   "source": [
    "df['ATOI'].head()"
   ]
  },
  {
   "cell_type": "code",
   "execution_count": 28,
   "metadata": {},
   "outputs": [],
   "source": [
    "def convert_ATOI_to_min(row):\n",
    "    r = row.split(':')\n",
    "    return int(r[1]) + 60*int(r[0])"
   ]
  },
  {
   "cell_type": "code",
   "execution_count": 29,
   "metadata": {},
   "outputs": [],
   "source": [
    "df['ATOI'] = df['ATOI'].apply(lambda row: convert_ATOI_to_min(row))"
   ]
  },
  {
   "cell_type": "code",
   "execution_count": 32,
   "metadata": {},
   "outputs": [
    {
     "data": {
      "text/plain": [
       "count     906.000000\n",
       "mean      902.444812\n",
       "std       260.391108\n",
       "min       112.000000\n",
       "25%       716.250000\n",
       "50%       892.500000\n",
       "75%      1090.500000\n",
       "max      1602.000000\n",
       "Name: ATOI, dtype: float64"
      ]
     },
     "execution_count": 32,
     "metadata": {},
     "output_type": "execute_result"
    }
   ],
   "source": [
    "df['ATOI'].describe()"
   ]
  },
  {
   "cell_type": "code",
   "execution_count": 35,
   "metadata": {},
   "outputs": [],
   "source": [
    "df = df.loc[(df['ATOI'] >= 716.25) & (df['GP'] >= 23)]"
   ]
  },
  {
   "cell_type": "code",
   "execution_count": 36,
   "metadata": {},
   "outputs": [
    {
     "data": {
      "text/plain": [
       "(579, 76)"
      ]
     },
     "execution_count": 36,
     "metadata": {},
     "output_type": "execute_result"
    }
   ],
   "source": [
    "df.shape"
   ]
  },
  {
   "cell_type": "code",
   "execution_count": 37,
   "metadata": {},
   "outputs": [],
   "source": [
    "df['TTOI'] = df['ATOI'] * df['GP']"
   ]
  },
  {
   "cell_type": "code",
   "execution_count": 39,
   "metadata": {},
   "outputs": [
    {
     "data": {
      "text/plain": [
       "Index(['Player', 'Pos', 'GP', 'G', 'A', 'PTS', '+/-', 'PIM', 'EVP', 'PPP',\n",
       "       'SHP', 'GW', 'EVA', 'PPA', 'SHA', 'S', 'S%', 'TOI', 'ATOI', 'BLK',\n",
       "       'HIT', 'FOW', 'FOL', 'FO%', 'CF', 'CA', 'CF%', 'FF', 'FA', 'FF%',\n",
       "       'FF% rel', 'oiSH%', 'oiSV%', 'PDO', 'oZS%', 'dZS%', 'TOI/60', 'TOI(EV)',\n",
       "       'TK', 'GV', 'E+/-', 'SAtt.', 'Thru%', 'Shift', 'EV_TOI', 'EV_CF%_Rel',\n",
       "       'EV_GFP60', 'EV_GAP60', 'PP_TOI', 'PP_CF%_Rel', 'PP_GFP60', 'PP_GAP60',\n",
       "       'SH_TOI', 'SH_CF%_Rel', 'SH_GFP60', 'SH_GAP60', 'GC', 'GPG', 'APG',\n",
       "       'PTSPG', 'GCPG', 'PIMPG', 'SPG', 'AG', 'AA', 'APTS', 'AGC', 'TGF',\n",
       "       'PGF', 'TGA', 'PGA', 'xGF', 'xGA', 'OPS', 'DPS', 'PS', 'TTOI'],\n",
       "      dtype='object')"
      ]
     },
     "execution_count": 39,
     "metadata": {},
     "output_type": "execute_result"
    }
   ],
   "source": [
    "df.columns"
   ]
  },
  {
   "cell_type": "code",
   "execution_count": 48,
   "metadata": {},
   "outputs": [
    {
     "data": {
      "text/plain": [
       "<matplotlib.axes._subplots.AxesSubplot at 0x1a1e981d30>"
      ]
     },
     "execution_count": 48,
     "metadata": {},
     "output_type": "execute_result"
    },
    {
     "data": {
      "image/png": "[encoded data removed]",
      "text/plain": [
       "<Figure size 792x648 with 2 Axes>"
      ]
     },
     "metadata": {
      "needs_background": "light"
     },
     "output_type": "display_data"
    }
   ],
   "source": [
    "# Compute the correlation matrix\n",
    "corr = df.corr()>.8\n",
    "\n",
    "# Generate a mask for the upper triangle\n",
    "mask = np.triu(np.ones_like(corr, dtype=np.bool))\n",
    "\n",
    "# Set up the matplotlib figure\n",
    "f, ax = plt.subplots(figsize=(11, 9))\n",
    "\n",
    "# Generate a custom diverging colormap\n",
    "cmap = sns.diverging_palette(220, 10, as_cmap=True)\n",
    "\n",
    "# Draw the heatmap with the mask and correct aspect ratio\n",
    "sns.heatmap(corr, mask=mask, cmap=cmap, vmax=.3, center=0,\n",
    "            square=True, linewidths=.5, cbar_kws={\"shrink\": .5})"
   ]
  },
  {
   "cell_type": "code",
   "execution_count": null,
   "metadata": {},
   "outputs": [],
   "source": []
  }
 ],
 "metadata": {
  "kernelspec": {
   "display_name": "Python 3",
   "language": "python",
   "name": "python3"
  },
  "language_info": {
   "codemirror_mode": {
    "name": "ipython",
    "version": 3
   },
   "file_extension": ".py",
   "mimetype": "text/x-python",
   "name": "python",
   "nbconvert_exporter": "python",
   "pygments_lexer": "ipython3",
   "version": "3.6.9"
  },
  "toc": {
   "base_numbering": 1,
   "nav_menu": {},
   "number_sections": true,
   "sideBar": true,
   "skip_h1_title": false,
   "title_cell": "Table of Contents",
   "title_sidebar": "Contents",
   "toc_cell": false,
   "toc_position": {},
   "toc_section_display": true,
   "toc_window_display": false
  },
  "varInspector": {
   "cols": {
    "lenName": 16,
    "lenType": 16,
    "lenVar": 40
   },
   "kernels_config": {
    "python": {
     "delete_cmd_postfix": "",
     "delete_cmd_prefix": "del ",
     "library": "var_list.py",
     "varRefreshCmd": "print(var_dic_list())"
    },
    "r": {
     "delete_cmd_postfix": ") ",
     "delete_cmd_prefix": "rm(",
     "library": "var_list.r",
     "varRefreshCmd": "cat(var_dic_list()) "
    }
   },
   "types_to_exclude": [
    "module",
    "function",
    "builtin_function_or_method",
    "instance",
    "_Feature"
   ],
   "window_display": false
  }
 },
 "nbformat": 4,
 "nbformat_minor": 2
}
