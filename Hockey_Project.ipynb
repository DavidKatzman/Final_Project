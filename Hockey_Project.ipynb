{
 "cells": [
  {
   "cell_type": "markdown",
   "metadata": {},
   "source": [
    "# Import Packages"
   ]
  },
  {
   "cell_type": "code",
   "execution_count": 1,
   "metadata": {},
   "outputs": [],
   "source": [
    "import numpy as np\n",
    "import pandas as pd\n",
    "import seaborn as sns\n",
    "import matplotlib.pyplot as plt\n",
    "%matplotlib inline\n",
    "from sklearn.cluster import KMeans\n",
    "np.random.seed(0)\n",
    "from scipy import stats\n",
    "from sklearn import metrics\n",
    "from sklearn.cluster import AgglomerativeClustering\n",
    "from sklearn.neighbors import KernelDensity\n",
    "from sklearn.preprocessing import MinMaxScaler"
   ]
  },
  {
   "cell_type": "markdown",
   "metadata": {},
   "source": [
    "# Load in Data"
   ]
  },
  {
   "cell_type": "markdown",
   "metadata": {},
   "source": [
    "## Basic Stats "
   ]
  },
  {
   "cell_type": "code",
   "execution_count": 2,
   "metadata": {},
   "outputs": [],
   "source": [
    "bs89 = pd.read_csv('basic_stats_18_19.csv', index_col = 0)"
   ]
  },
  {
   "cell_type": "code",
   "execution_count": 3,
   "metadata": {
    "scrolled": true
   },
   "outputs": [
    {
     "data": {
      "text/plain": [
       "Index(['Player', 'Age', 'Tm', 'Pos', 'GP', 'G', 'A', 'PTS▼', '+/-', 'PIM',\n",
       "       'PS', 'EV', 'PP', 'SH', 'GW', 'EV.1', 'PP.1', 'SH.1', 'S', 'S%', 'TOI',\n",
       "       'ATOI', 'BLK', 'HIT', 'FOW', 'FOL', 'FO%'],\n",
       "      dtype='object')"
      ]
     },
     "execution_count": 3,
     "metadata": {},
     "output_type": "execute_result"
    }
   ],
   "source": [
    "bs89.columns"
   ]
  },
  {
   "cell_type": "code",
   "execution_count": 4,
   "metadata": {},
   "outputs": [],
   "source": [
    "bs89.drop(['PS'], axis = 1, inplace = True)"
   ]
  },
  {
   "cell_type": "code",
   "execution_count": 5,
   "metadata": {},
   "outputs": [],
   "source": [
    "bs89.rename(columns = {'PTS▼': 'PTS', 'EV': 'EVG', 'PP': 'PPG', 'SH': 'SHG', 'EV.1': 'EVA', 'PP.1': 'PPA', 'SH.1': 'SHA'}, inplace = True)"
   ]
  },
  {
   "cell_type": "markdown",
   "metadata": {},
   "source": [
    "## Advanced Stats "
   ]
  },
  {
   "cell_type": "code",
   "execution_count": 6,
   "metadata": {},
   "outputs": [],
   "source": [
    "as89 = pd.read_csv('advanced_stats_18_19.csv', index_col = 0)"
   ]
  },
  {
   "cell_type": "code",
   "execution_count": 7,
   "metadata": {},
   "outputs": [
    {
     "data": {
      "text/html": [
       "<div>\n",
       "<style scoped>\n",
       "    .dataframe tbody tr th:only-of-type {\n",
       "        vertical-align: middle;\n",
       "    }\n",
       "\n",
       "    .dataframe tbody tr th {\n",
       "        vertical-align: top;\n",
       "    }\n",
       "\n",
       "    .dataframe thead th {\n",
       "        text-align: right;\n",
       "    }\n",
       "</style>\n",
       "<table border=\"1\" class=\"dataframe\">\n",
       "  <thead>\n",
       "    <tr style=\"text-align: right;\">\n",
       "      <th></th>\n",
       "      <th>Player</th>\n",
       "      <th>Age</th>\n",
       "      <th>Tm</th>\n",
       "      <th>Pos</th>\n",
       "      <th>GP▼</th>\n",
       "      <th>CF</th>\n",
       "      <th>CA</th>\n",
       "      <th>CF%</th>\n",
       "      <th>CF% rel</th>\n",
       "      <th>FF</th>\n",
       "      <th>...</th>\n",
       "      <th>PDO</th>\n",
       "      <th>oZS%</th>\n",
       "      <th>dZS%</th>\n",
       "      <th>TOI/60</th>\n",
       "      <th>TOI(EV)</th>\n",
       "      <th>TK</th>\n",
       "      <th>GV</th>\n",
       "      <th>E+/-</th>\n",
       "      <th>SAtt.</th>\n",
       "      <th>Thru%</th>\n",
       "    </tr>\n",
       "    <tr>\n",
       "      <th>Rk</th>\n",
       "      <th></th>\n",
       "      <th></th>\n",
       "      <th></th>\n",
       "      <th></th>\n",
       "      <th></th>\n",
       "      <th></th>\n",
       "      <th></th>\n",
       "      <th></th>\n",
       "      <th></th>\n",
       "      <th></th>\n",
       "      <th></th>\n",
       "      <th></th>\n",
       "      <th></th>\n",
       "      <th></th>\n",
       "      <th></th>\n",
       "      <th></th>\n",
       "      <th></th>\n",
       "      <th></th>\n",
       "      <th></th>\n",
       "      <th></th>\n",
       "      <th></th>\n",
       "    </tr>\n",
       "  </thead>\n",
       "  <tbody>\n",
       "    <tr>\n",
       "      <td>1</td>\n",
       "      <td>Marcus Pettersson\\pettema01</td>\n",
       "      <td>22</td>\n",
       "      <td>TOT</td>\n",
       "      <td>D</td>\n",
       "      <td>84</td>\n",
       "      <td>1205</td>\n",
       "      <td>1190</td>\n",
       "      <td>50.3</td>\n",
       "      <td>3.5</td>\n",
       "      <td>889</td>\n",
       "      <td>...</td>\n",
       "      <td>101.8</td>\n",
       "      <td>49.9</td>\n",
       "      <td>50.1</td>\n",
       "      <td>16:41</td>\n",
       "      <td>14:56</td>\n",
       "      <td>24</td>\n",
       "      <td>43</td>\n",
       "      <td>5.5</td>\n",
       "      <td>221</td>\n",
       "      <td>39.4</td>\n",
       "    </tr>\n",
       "    <tr>\n",
       "      <td>2</td>\n",
       "      <td>Kevin Fiala\\fialake01</td>\n",
       "      <td>22</td>\n",
       "      <td>TOT</td>\n",
       "      <td>LW</td>\n",
       "      <td>83</td>\n",
       "      <td>1165</td>\n",
       "      <td>1044</td>\n",
       "      <td>52.7</td>\n",
       "      <td>0.9</td>\n",
       "      <td>888</td>\n",
       "      <td>...</td>\n",
       "      <td>96.4</td>\n",
       "      <td>63.6</td>\n",
       "      <td>36.4</td>\n",
       "      <td>15:38</td>\n",
       "      <td>13:24</td>\n",
       "      <td>44</td>\n",
       "      <td>68</td>\n",
       "      <td>-3.2</td>\n",
       "      <td>316</td>\n",
       "      <td>55.1</td>\n",
       "    </tr>\n",
       "    <tr>\n",
       "      <td>3</td>\n",
       "      <td>Ryan Hartman\\hartmry01</td>\n",
       "      <td>24</td>\n",
       "      <td>TOT</td>\n",
       "      <td>RW</td>\n",
       "      <td>83</td>\n",
       "      <td>973</td>\n",
       "      <td>952</td>\n",
       "      <td>50.5</td>\n",
       "      <td>-1.3</td>\n",
       "      <td>712</td>\n",
       "      <td>...</td>\n",
       "      <td>100.3</td>\n",
       "      <td>44.5</td>\n",
       "      <td>55.5</td>\n",
       "      <td>13:07</td>\n",
       "      <td>12:23</td>\n",
       "      <td>35</td>\n",
       "      <td>38</td>\n",
       "      <td>-7.7</td>\n",
       "      <td>245</td>\n",
       "      <td>59.2</td>\n",
       "    </tr>\n",
       "    <tr>\n",
       "      <td>4</td>\n",
       "      <td>Sebastian Aho\\ahose01</td>\n",
       "      <td>21</td>\n",
       "      <td>CAR</td>\n",
       "      <td>C</td>\n",
       "      <td>82</td>\n",
       "      <td>1556</td>\n",
       "      <td>1164</td>\n",
       "      <td>57.2</td>\n",
       "      <td>3.4</td>\n",
       "      <td>1191</td>\n",
       "      <td>...</td>\n",
       "      <td>100.7</td>\n",
       "      <td>59.2</td>\n",
       "      <td>40.8</td>\n",
       "      <td>20:09</td>\n",
       "      <td>16:03</td>\n",
       "      <td>81</td>\n",
       "      <td>64</td>\n",
       "      <td>21.7</td>\n",
       "      <td>466</td>\n",
       "      <td>52.1</td>\n",
       "    </tr>\n",
       "    <tr>\n",
       "      <td>5</td>\n",
       "      <td>Josh Anderson\\anderjo05</td>\n",
       "      <td>24</td>\n",
       "      <td>CBJ</td>\n",
       "      <td>RW</td>\n",
       "      <td>82</td>\n",
       "      <td>1129</td>\n",
       "      <td>1136</td>\n",
       "      <td>49.8</td>\n",
       "      <td>-0.4</td>\n",
       "      <td>854</td>\n",
       "      <td>...</td>\n",
       "      <td>103.9</td>\n",
       "      <td>46.4</td>\n",
       "      <td>53.6</td>\n",
       "      <td>17:01</td>\n",
       "      <td>14:19</td>\n",
       "      <td>46</td>\n",
       "      <td>19</td>\n",
       "      <td>5.3</td>\n",
       "      <td>383</td>\n",
       "      <td>60.1</td>\n",
       "    </tr>\n",
       "  </tbody>\n",
       "</table>\n",
       "<p>5 rows × 25 columns</p>\n",
       "</div>"
      ],
      "text/plain": [
       "                         Player  Age   Tm Pos  GP▼    CF    CA   CF%  CF% rel  \\\n",
       "Rk                                                                              \n",
       "1   Marcus Pettersson\\pettema01   22  TOT   D   84  1205  1190  50.3      3.5   \n",
       "2         Kevin Fiala\\fialake01   22  TOT  LW   83  1165  1044  52.7      0.9   \n",
       "3        Ryan Hartman\\hartmry01   24  TOT  RW   83   973   952  50.5     -1.3   \n",
       "4         Sebastian Aho\\ahose01   21  CAR   C   82  1556  1164  57.2      3.4   \n",
       "5       Josh Anderson\\anderjo05   24  CBJ  RW   82  1129  1136  49.8     -0.4   \n",
       "\n",
       "      FF  ...    PDO  oZS%  dZS%  TOI/60  TOI(EV)  TK  GV  E+/- SAtt. Thru%  \n",
       "Rk        ...                                                                \n",
       "1    889  ...  101.8  49.9  50.1   16:41    14:56  24  43   5.5   221  39.4  \n",
       "2    888  ...   96.4  63.6  36.4   15:38    13:24  44  68  -3.2   316  55.1  \n",
       "3    712  ...  100.3  44.5  55.5   13:07    12:23  35  38  -7.7   245  59.2  \n",
       "4   1191  ...  100.7  59.2  40.8   20:09    16:03  81  64  21.7   466  52.1  \n",
       "5    854  ...  103.9  46.4  53.6   17:01    14:19  46  19   5.3   383  60.1  \n",
       "\n",
       "[5 rows x 25 columns]"
      ]
     },
     "execution_count": 7,
     "metadata": {},
     "output_type": "execute_result"
    }
   ],
   "source": [
    "as89.head()"
   ]
  },
  {
   "cell_type": "code",
   "execution_count": 8,
   "metadata": {},
   "outputs": [
    {
     "data": {
      "text/plain": [
       "Index(['Player', 'Age', 'Tm', 'Pos', 'GP▼', 'CF', 'CA', 'CF%', 'CF% rel', 'FF',\n",
       "       'FA', 'FF%', 'FF% rel', 'oiSH%', 'oiSV%', 'PDO', 'oZS%', 'dZS%',\n",
       "       'TOI/60', 'TOI(EV)', 'TK', 'GV', 'E+/-', 'SAtt.', 'Thru%'],\n",
       "      dtype='object')"
      ]
     },
     "execution_count": 8,
     "metadata": {},
     "output_type": "execute_result"
    }
   ],
   "source": [
    "as89.columns"
   ]
  },
  {
   "cell_type": "code",
   "execution_count": 9,
   "metadata": {},
   "outputs": [],
   "source": [
    "as89.drop(['Age', 'Tm', 'Pos', 'GP▼', 'CF% rel'], axis = 1, inplace = True)"
   ]
  },
  {
   "cell_type": "markdown",
   "metadata": {},
   "source": [
    "## Time On Ice Stats "
   ]
  },
  {
   "cell_type": "code",
   "execution_count": 10,
   "metadata": {},
   "outputs": [],
   "source": [
    "toi89 = pd.read_csv('TOI_18_19.csv', index_col = 0)"
   ]
  },
  {
   "cell_type": "code",
   "execution_count": 11,
   "metadata": {},
   "outputs": [
    {
     "data": {
      "text/plain": [
       "Index(['Player', 'Tm', 'Pos', 'Shift', 'GP▼', 'Unnamed: 6', 'TOI', 'CF% Rel',\n",
       "       'GF/60', 'GA/60', 'Unnamed: 11', 'TOI.1', 'CF% Rel.1', 'GF/60.1',\n",
       "       'GA/60.1', 'Unnamed: 16', 'TOI.2', 'CF% Rel.2', 'GF/60.2', 'GA/60.2'],\n",
       "      dtype='object')"
      ]
     },
     "execution_count": 11,
     "metadata": {},
     "output_type": "execute_result"
    }
   ],
   "source": [
    "toi89.columns"
   ]
  },
  {
   "cell_type": "code",
   "execution_count": 12,
   "metadata": {},
   "outputs": [],
   "source": [
    "toi89.drop(['Tm', 'Pos', 'GP▼', 'Unnamed: 6', 'Unnamed: 11', 'Unnamed: 16'], axis = 1, inplace = True)"
   ]
  },
  {
   "cell_type": "code",
   "execution_count": 13,
   "metadata": {},
   "outputs": [],
   "source": [
    "toi89.rename(columns = {'TOI': 'EV_TOI', 'CF% Rel': 'EV_CF%_Rel', \n",
    "                        'GF/60': 'EV_GFP60', 'GA/60': 'EV_GAP60', \n",
    "                        'TOI.1': 'PP_TOI', 'CF% Rel.1': 'PP_CF%_Rel',\n",
    "                        'GF/60.1': 'PP_GFP60', 'GA/60.1': 'PP_GAP60',\n",
    "                        'TOI.2': 'SH_TOI', 'CF% Rel.2': 'SH_CF%_Rel',\n",
    "                        'GF/60.2': 'SH_GFP60', 'GA/60.2': 'SH_GAP60'}, inplace = True)"
   ]
  },
  {
   "cell_type": "markdown",
   "metadata": {},
   "source": [
    "## Misc Stats"
   ]
  },
  {
   "cell_type": "code",
   "execution_count": 14,
   "metadata": {},
   "outputs": [],
   "source": [
    "misc89 = pd.read_csv('misc_18_19.csv', index_col = 0)"
   ]
  },
  {
   "cell_type": "code",
   "execution_count": 15,
   "metadata": {},
   "outputs": [
    {
     "data": {
      "text/plain": [
       "Index(['Player', 'Age', 'Tm', 'Pos', 'GP▼', 'GC', 'G', 'A', 'PTS', 'GC.1',\n",
       "       'PIM', 'S', 'G.1', 'A.1', 'PTS.1', 'GC.2', 'TGF', 'PGF', 'TGA', 'PGA',\n",
       "       '+/-', 'xGF', 'xGA', 'E+/-', 'OPS', 'DPS', 'PS', 'Att.', 'Made', 'Miss',\n",
       "       'Pct.'],\n",
       "      dtype='object')"
      ]
     },
     "execution_count": 15,
     "metadata": {},
     "output_type": "execute_result"
    }
   ],
   "source": [
    "misc89.columns"
   ]
  },
  {
   "cell_type": "code",
   "execution_count": 16,
   "metadata": {},
   "outputs": [],
   "source": [
    "misc89.drop(['Age', 'Tm', 'Pos', 'GP▼', '+/-', 'E+/-', 'Att.', 'Made', 'Miss', 'Pct.'], axis = 1, inplace = True)"
   ]
  },
  {
   "cell_type": "code",
   "execution_count": 17,
   "metadata": {},
   "outputs": [],
   "source": [
    "misc89.rename(columns = {'G': 'GPG', 'A': 'APG', 'PTS': 'PTSPG', 'GC.1': 'GCPG', 'PIM': 'PIMPG', 'S': 'SPG', \n",
    "                         'G.1': 'AG', 'A.1': 'AA', 'PTS.1': 'APTS', 'GC.2': 'AGC'}, inplace = True)"
   ]
  },
  {
   "cell_type": "markdown",
   "metadata": {},
   "source": [
    "# Merge DataFrames"
   ]
  },
  {
   "cell_type": "code",
   "execution_count": 18,
   "metadata": {},
   "outputs": [],
   "source": [
    "df1 = pd.merge(bs89, as89, on = ['Player'])"
   ]
  },
  {
   "cell_type": "code",
   "execution_count": 19,
   "metadata": {},
   "outputs": [],
   "source": [
    "df2 = pd.merge(df1, toi89, on = ['Player'])"
   ]
  },
  {
   "cell_type": "code",
   "execution_count": 20,
   "metadata": {},
   "outputs": [],
   "source": [
    "df = pd.merge(df2, misc89, on = ['Player'])"
   ]
  },
  {
   "cell_type": "code",
   "execution_count": 21,
   "metadata": {},
   "outputs": [
    {
     "data": {
      "text/html": [
       "<div>\n",
       "<style scoped>\n",
       "    .dataframe tbody tr th:only-of-type {\n",
       "        vertical-align: middle;\n",
       "    }\n",
       "\n",
       "    .dataframe tbody tr th {\n",
       "        vertical-align: top;\n",
       "    }\n",
       "\n",
       "    .dataframe thead th {\n",
       "        text-align: right;\n",
       "    }\n",
       "</style>\n",
       "<table border=\"1\" class=\"dataframe\">\n",
       "  <thead>\n",
       "    <tr style=\"text-align: right;\">\n",
       "      <th></th>\n",
       "      <th>Player</th>\n",
       "      <th>Age</th>\n",
       "      <th>Tm</th>\n",
       "      <th>Pos</th>\n",
       "      <th>GP</th>\n",
       "      <th>G</th>\n",
       "      <th>A</th>\n",
       "      <th>PTS</th>\n",
       "      <th>+/-</th>\n",
       "      <th>PIM</th>\n",
       "      <th>...</th>\n",
       "      <th>AGC</th>\n",
       "      <th>TGF</th>\n",
       "      <th>PGF</th>\n",
       "      <th>TGA</th>\n",
       "      <th>PGA</th>\n",
       "      <th>xGF</th>\n",
       "      <th>xGA</th>\n",
       "      <th>OPS</th>\n",
       "      <th>DPS</th>\n",
       "      <th>PS</th>\n",
       "    </tr>\n",
       "  </thead>\n",
       "  <tbody>\n",
       "    <tr>\n",
       "      <td>0</td>\n",
       "      <td>Nikita Kucherov\\kucheni01</td>\n",
       "      <td>25</td>\n",
       "      <td>TBL</td>\n",
       "      <td>RW</td>\n",
       "      <td>82</td>\n",
       "      <td>41</td>\n",
       "      <td>87</td>\n",
       "      <td>128</td>\n",
       "      <td>24</td>\n",
       "      <td>62</td>\n",
       "      <td>...</td>\n",
       "      <td>46</td>\n",
       "      <td>155</td>\n",
       "      <td>60</td>\n",
       "      <td>71</td>\n",
       "      <td>1</td>\n",
       "      <td>71.5</td>\n",
       "      <td>62.9</td>\n",
       "      <td>12.3</td>\n",
       "      <td>2.3</td>\n",
       "      <td>14.6</td>\n",
       "    </tr>\n",
       "    <tr>\n",
       "      <td>1</td>\n",
       "      <td>Connor McDavid\\mcdavco01</td>\n",
       "      <td>22</td>\n",
       "      <td>EDM</td>\n",
       "      <td>C</td>\n",
       "      <td>78</td>\n",
       "      <td>41</td>\n",
       "      <td>75</td>\n",
       "      <td>116</td>\n",
       "      <td>3</td>\n",
       "      <td>20</td>\n",
       "      <td>...</td>\n",
       "      <td>43</td>\n",
       "      <td>142</td>\n",
       "      <td>42</td>\n",
       "      <td>107</td>\n",
       "      <td>10</td>\n",
       "      <td>73.7</td>\n",
       "      <td>71.7</td>\n",
       "      <td>10.8</td>\n",
       "      <td>2.1</td>\n",
       "      <td>13.0</td>\n",
       "    </tr>\n",
       "    <tr>\n",
       "      <td>2</td>\n",
       "      <td>Patrick Kane\\kanepa01</td>\n",
       "      <td>30</td>\n",
       "      <td>CHI</td>\n",
       "      <td>RW</td>\n",
       "      <td>81</td>\n",
       "      <td>44</td>\n",
       "      <td>66</td>\n",
       "      <td>110</td>\n",
       "      <td>2</td>\n",
       "      <td>22</td>\n",
       "      <td>...</td>\n",
       "      <td>43</td>\n",
       "      <td>142</td>\n",
       "      <td>42</td>\n",
       "      <td>98</td>\n",
       "      <td>0</td>\n",
       "      <td>68.6</td>\n",
       "      <td>83.3</td>\n",
       "      <td>10.2</td>\n",
       "      <td>1.6</td>\n",
       "      <td>11.8</td>\n",
       "    </tr>\n",
       "    <tr>\n",
       "      <td>3</td>\n",
       "      <td>Leon Draisaitl\\draisle01</td>\n",
       "      <td>23</td>\n",
       "      <td>EDM</td>\n",
       "      <td>C</td>\n",
       "      <td>82</td>\n",
       "      <td>50</td>\n",
       "      <td>55</td>\n",
       "      <td>105</td>\n",
       "      <td>2</td>\n",
       "      <td>52</td>\n",
       "      <td>...</td>\n",
       "      <td>43</td>\n",
       "      <td>141</td>\n",
       "      <td>44</td>\n",
       "      <td>109</td>\n",
       "      <td>14</td>\n",
       "      <td>69.1</td>\n",
       "      <td>71.0</td>\n",
       "      <td>10.4</td>\n",
       "      <td>2.2</td>\n",
       "      <td>12.6</td>\n",
       "    </tr>\n",
       "    <tr>\n",
       "      <td>4</td>\n",
       "      <td>Sidney Crosby\\crosbsi01</td>\n",
       "      <td>31</td>\n",
       "      <td>PIT</td>\n",
       "      <td>C</td>\n",
       "      <td>79</td>\n",
       "      <td>35</td>\n",
       "      <td>65</td>\n",
       "      <td>100</td>\n",
       "      <td>18</td>\n",
       "      <td>36</td>\n",
       "      <td>...</td>\n",
       "      <td>37</td>\n",
       "      <td>139</td>\n",
       "      <td>43</td>\n",
       "      <td>83</td>\n",
       "      <td>5</td>\n",
       "      <td>71.1</td>\n",
       "      <td>52.6</td>\n",
       "      <td>8.9</td>\n",
       "      <td>2.4</td>\n",
       "      <td>11.4</td>\n",
       "    </tr>\n",
       "  </tbody>\n",
       "</table>\n",
       "<p>5 rows × 78 columns</p>\n",
       "</div>"
      ],
      "text/plain": [
       "                      Player  Age   Tm Pos  GP   G   A  PTS  +/-  PIM  ...  \\\n",
       "0  Nikita Kucherov\\kucheni01   25  TBL  RW  82  41  87  128   24   62  ...   \n",
       "1   Connor McDavid\\mcdavco01   22  EDM   C  78  41  75  116    3   20  ...   \n",
       "2      Patrick Kane\\kanepa01   30  CHI  RW  81  44  66  110    2   22  ...   \n",
       "3   Leon Draisaitl\\draisle01   23  EDM   C  82  50  55  105    2   52  ...   \n",
       "4    Sidney Crosby\\crosbsi01   31  PIT   C  79  35  65  100   18   36  ...   \n",
       "\n",
       "   AGC  TGF  PGF  TGA  PGA   xGF   xGA   OPS  DPS    PS  \n",
       "0   46  155   60   71    1  71.5  62.9  12.3  2.3  14.6  \n",
       "1   43  142   42  107   10  73.7  71.7  10.8  2.1  13.0  \n",
       "2   43  142   42   98    0  68.6  83.3  10.2  1.6  11.8  \n",
       "3   43  141   44  109   14  69.1  71.0  10.4  2.2  12.6  \n",
       "4   37  139   43   83    5  71.1  52.6   8.9  2.4  11.4  \n",
       "\n",
       "[5 rows x 78 columns]"
      ]
     },
     "execution_count": 21,
     "metadata": {},
     "output_type": "execute_result"
    }
   ],
   "source": [
    "df.head()"
   ]
  },
  {
   "cell_type": "markdown",
   "metadata": {},
   "source": [
    "# Clean DataFrame and Add Some Variables"
   ]
  },
  {
   "cell_type": "code",
   "execution_count": 22,
   "metadata": {},
   "outputs": [],
   "source": [
    "df.drop(['Age', 'Tm'], axis = 1, inplace = True)"
   ]
  },
  {
   "cell_type": "code",
   "execution_count": 23,
   "metadata": {
    "scrolled": true
   },
   "outputs": [
    {
     "data": {
      "text/plain": [
       "Index(['Player', 'Pos', 'GP', 'G', 'A', 'PTS', '+/-', 'PIM', 'EVG', 'PPG',\n",
       "       'SHG', 'GW', 'EVA', 'PPA', 'SHA', 'S', 'S%', 'TOI', 'ATOI', 'BLK',\n",
       "       'HIT', 'FOW', 'FOL', 'FO%', 'CF', 'CA', 'CF%', 'FF', 'FA', 'FF%',\n",
       "       'FF% rel', 'oiSH%', 'oiSV%', 'PDO', 'oZS%', 'dZS%', 'TOI/60', 'TOI(EV)',\n",
       "       'TK', 'GV', 'E+/-', 'SAtt.', 'Thru%', 'Shift', 'EV_TOI', 'EV_CF%_Rel',\n",
       "       'EV_GFP60', 'EV_GAP60', 'PP_TOI', 'PP_CF%_Rel', 'PP_GFP60', 'PP_GAP60',\n",
       "       'SH_TOI', 'SH_CF%_Rel', 'SH_GFP60', 'SH_GAP60', 'GC', 'GPG', 'APG',\n",
       "       'PTSPG', 'GCPG', 'PIMPG', 'SPG', 'AG', 'AA', 'APTS', 'AGC', 'TGF',\n",
       "       'PGF', 'TGA', 'PGA', 'xGF', 'xGA', 'OPS', 'DPS', 'PS'],\n",
       "      dtype='object')"
      ]
     },
     "execution_count": 23,
     "metadata": {},
     "output_type": "execute_result"
    }
   ],
   "source": [
    "df.columns"
   ]
  },
  {
   "cell_type": "code",
   "execution_count": 24,
   "metadata": {},
   "outputs": [
    {
     "data": {
      "text/plain": [
       "0      16:11\n",
       "1      18:47\n",
       "2      18:43\n",
       "3      18:05\n",
       "4      17:13\n",
       "       ...  \n",
       "901    10:38\n",
       "902    15:48\n",
       "903    12:25\n",
       "904    13:51\n",
       "905    15:55\n",
       "Name: EV_TOI, Length: 906, dtype: object"
      ]
     },
     "execution_count": 24,
     "metadata": {},
     "output_type": "execute_result"
    }
   ],
   "source": [
    "df['EV_TOI']"
   ]
  },
  {
   "cell_type": "code",
   "execution_count": 25,
   "metadata": {},
   "outputs": [],
   "source": [
    "TOI_stats = ['ATOI', 'TOI/60', 'TOI(EV)', 'EV_TOI', 'PP_TOI', 'SH_TOI', 'Shift']"
   ]
  },
  {
   "cell_type": "code",
   "execution_count": 26,
   "metadata": {},
   "outputs": [],
   "source": [
    "def convert_TOI_stats(row):\n",
    "    r = row.split(':')\n",
    "    return int(r[0])*60+int(r[1])"
   ]
  },
  {
   "cell_type": "code",
   "execution_count": 27,
   "metadata": {},
   "outputs": [],
   "source": [
    "for col in TOI_stats:\n",
    "    df[col] = df[col].apply(lambda row: convert_TOI_stats(row))"
   ]
  },
  {
   "cell_type": "code",
   "execution_count": 28,
   "metadata": {},
   "outputs": [],
   "source": [
    "def clean_player_name(row):\n",
    "    return row.split('\\\\')[0]"
   ]
  },
  {
   "cell_type": "code",
   "execution_count": 29,
   "metadata": {},
   "outputs": [
    {
     "data": {
      "text/plain": [
       "0       971\n",
       "1      1127\n",
       "2      1123\n",
       "3      1085\n",
       "4      1033\n",
       "       ... \n",
       "901     638\n",
       "902     948\n",
       "903     745\n",
       "904     831\n",
       "905     955\n",
       "Name: EV_TOI, Length: 906, dtype: int64"
      ]
     },
     "execution_count": 29,
     "metadata": {},
     "output_type": "execute_result"
    }
   ],
   "source": [
    "df['EV_TOI']"
   ]
  },
  {
   "cell_type": "code",
   "execution_count": 30,
   "metadata": {},
   "outputs": [
    {
     "data": {
      "text/plain": [
       "0      1637\n",
       "1      1781\n",
       "2      1822\n",
       "3      1852\n",
       "4      1658\n",
       "       ... \n",
       "901      43\n",
       "902      66\n",
       "903     151\n",
       "904      73\n",
       "905     204\n",
       "Name: TOI, Length: 906, dtype: int64"
      ]
     },
     "execution_count": 30,
     "metadata": {},
     "output_type": "execute_result"
    }
   ],
   "source": [
    "df['TOI']"
   ]
  },
  {
   "cell_type": "code",
   "execution_count": 31,
   "metadata": {},
   "outputs": [],
   "source": [
    "df['Player'] = df['Player'].apply(lambda x: clean_player_name(x))"
   ]
  },
  {
   "cell_type": "code",
   "execution_count": 32,
   "metadata": {},
   "outputs": [],
   "source": [
    "df['GPP'] = df['G'] / df['PTS']"
   ]
  },
  {
   "cell_type": "code",
   "execution_count": 33,
   "metadata": {},
   "outputs": [],
   "source": [
    "df['APP'] = df['A'] / df['PTS']"
   ]
  },
  {
   "cell_type": "code",
   "execution_count": 34,
   "metadata": {},
   "outputs": [],
   "source": [
    "df['CFP60'] = df['CF'] / df['TOI'] * 60"
   ]
  },
  {
   "cell_type": "code",
   "execution_count": 35,
   "metadata": {},
   "outputs": [],
   "source": [
    "df['CAP60'] = df['CA'] / df['TOI'] * 60"
   ]
  },
  {
   "cell_type": "code",
   "execution_count": 36,
   "metadata": {},
   "outputs": [],
   "source": [
    "df['PIMP60'] = df['PIM'] / df['TOI'] * 60"
   ]
  },
  {
   "cell_type": "code",
   "execution_count": 37,
   "metadata": {},
   "outputs": [],
   "source": [
    "df['FOWP60'] = df['FOW'] / df['TOI'] * 60"
   ]
  },
  {
   "cell_type": "code",
   "execution_count": 38,
   "metadata": {},
   "outputs": [],
   "source": [
    "df['FOLP60'] = df['FOL'] / df['TOI'] * 60"
   ]
  },
  {
   "cell_type": "code",
   "execution_count": 39,
   "metadata": {},
   "outputs": [],
   "source": [
    "df['EVG%'] = df['EVG'] / df['G']"
   ]
  },
  {
   "cell_type": "code",
   "execution_count": 40,
   "metadata": {},
   "outputs": [],
   "source": [
    "df['SHG%'] = df['SHG'] / df['G']"
   ]
  },
  {
   "cell_type": "code",
   "execution_count": 41,
   "metadata": {},
   "outputs": [],
   "source": [
    "df['PPG%'] = df['PPG'] / df['G']"
   ]
  },
  {
   "cell_type": "code",
   "execution_count": 42,
   "metadata": {},
   "outputs": [],
   "source": [
    "df['EVA%'] = df['EVA'] / df['A']"
   ]
  },
  {
   "cell_type": "code",
   "execution_count": 43,
   "metadata": {},
   "outputs": [],
   "source": [
    "df['PPA%'] = df['PPA'] / df['A']"
   ]
  },
  {
   "cell_type": "code",
   "execution_count": 44,
   "metadata": {},
   "outputs": [],
   "source": [
    "df['SHA%'] = df['SHA'] / df['A']"
   ]
  },
  {
   "cell_type": "code",
   "execution_count": 45,
   "metadata": {},
   "outputs": [],
   "source": [
    "df['SP60'] = df['S'] / df['TOI'] * 60"
   ]
  },
  {
   "cell_type": "code",
   "execution_count": 46,
   "metadata": {},
   "outputs": [],
   "source": [
    "df['BLKP60'] = df['BLK'] / df['TOI'] * 60"
   ]
  },
  {
   "cell_type": "code",
   "execution_count": 47,
   "metadata": {},
   "outputs": [],
   "source": [
    "df['HITP60'] = df['HIT'] / df['TOI'] * 60"
   ]
  },
  {
   "cell_type": "code",
   "execution_count": 48,
   "metadata": {},
   "outputs": [],
   "source": [
    "df['EVCFP60'] = df['CF'] / df['TOI'] * 60"
   ]
  },
  {
   "cell_type": "code",
   "execution_count": 49,
   "metadata": {},
   "outputs": [],
   "source": [
    "df['EVCAP60'] = df['CA'] / df['TOI'] * 60"
   ]
  },
  {
   "cell_type": "code",
   "execution_count": 50,
   "metadata": {},
   "outputs": [],
   "source": [
    "df['TKP60'] = df['TK'] / df['TOI'] * 60"
   ]
  },
  {
   "cell_type": "code",
   "execution_count": 51,
   "metadata": {},
   "outputs": [],
   "source": [
    "df['GVP60'] = df['GV'] / df['TOI'] * 60"
   ]
  },
  {
   "cell_type": "code",
   "execution_count": 52,
   "metadata": {},
   "outputs": [],
   "source": [
    "df['SATTP60'] = df['SAtt.'] / df['TOI'] * 60"
   ]
  },
  {
   "cell_type": "code",
   "execution_count": 53,
   "metadata": {},
   "outputs": [],
   "source": [
    "df['EVTOI%'] = df['EV_TOI'] / df['TOI'] * 60"
   ]
  },
  {
   "cell_type": "code",
   "execution_count": 54,
   "metadata": {},
   "outputs": [],
   "source": [
    "df['PPTOI%'] = df['PP_TOI'] / df['TOI'] * 60"
   ]
  },
  {
   "cell_type": "code",
   "execution_count": 55,
   "metadata": {},
   "outputs": [],
   "source": [
    "df['SHTOI%'] = df['SH_TOI'] / df['TOI'] * 60"
   ]
  },
  {
   "cell_type": "code",
   "execution_count": 56,
   "metadata": {},
   "outputs": [],
   "source": [
    "df['EVEGFP60'] = df['xGF'] / df['TOI'] * 60"
   ]
  },
  {
   "cell_type": "code",
   "execution_count": 57,
   "metadata": {},
   "outputs": [],
   "source": [
    "df['EVEGAP60'] = df['xGA'] / df['TOI'] * 60"
   ]
  },
  {
   "cell_type": "code",
   "execution_count": 58,
   "metadata": {},
   "outputs": [
    {
     "data": {
      "text/plain": [
       "count    906.000000\n",
       "mean      50.502208\n",
       "std       28.743685\n",
       "min        1.000000\n",
       "25%       23.000000\n",
       "50%       60.000000\n",
       "75%       78.000000\n",
       "max       84.000000\n",
       "Name: GP, dtype: float64"
      ]
     },
     "execution_count": 58,
     "metadata": {},
     "output_type": "execute_result"
    }
   ],
   "source": [
    "df['GP'].describe()"
   ]
  },
  {
   "cell_type": "code",
   "execution_count": 59,
   "metadata": {},
   "outputs": [
    {
     "data": {
      "text/plain": [
       "0    1198\n",
       "1    1370\n",
       "2    1349\n",
       "3    1355\n",
       "4    1260\n",
       "Name: ATOI, dtype: int64"
      ]
     },
     "execution_count": 59,
     "metadata": {},
     "output_type": "execute_result"
    }
   ],
   "source": [
    "df['ATOI'].head()"
   ]
  },
  {
   "cell_type": "code",
   "execution_count": 60,
   "metadata": {},
   "outputs": [
    {
     "name": "stdout",
     "output_type": "stream",
     "text": [
      "TOI\n",
      "ATOI\n",
      "TOI/60\n",
      "TOI(EV)\n",
      "EV_TOI\n",
      "PP_TOI\n",
      "SH_TOI\n",
      "EVTOI%\n",
      "PPTOI%\n",
      "SHTOI%\n"
     ]
    }
   ],
   "source": [
    "for col in df.columns:\n",
    "    if \"TOI\" in col:\n",
    "        print(col)"
   ]
  },
  {
   "cell_type": "code",
   "execution_count": 61,
   "metadata": {},
   "outputs": [
    {
     "data": {
      "text/plain": [
       "count     906.000000\n",
       "mean      902.444812\n",
       "std       260.391108\n",
       "min       112.000000\n",
       "25%       716.250000\n",
       "50%       892.500000\n",
       "75%      1090.500000\n",
       "max      1602.000000\n",
       "Name: ATOI, dtype: float64"
      ]
     },
     "execution_count": 61,
     "metadata": {},
     "output_type": "execute_result"
    }
   ],
   "source": [
    "df['ATOI'].describe()"
   ]
  },
  {
   "cell_type": "code",
   "execution_count": 62,
   "metadata": {},
   "outputs": [],
   "source": [
    "df = df.loc[(df['ATOI'] >= 716.25) & (df['GP'] >= 23)]"
   ]
  },
  {
   "cell_type": "code",
   "execution_count": 63,
   "metadata": {},
   "outputs": [
    {
     "data": {
      "text/plain": [
       "(579, 102)"
      ]
     },
     "execution_count": 63,
     "metadata": {},
     "output_type": "execute_result"
    }
   ],
   "source": [
    "df.shape"
   ]
  },
  {
   "cell_type": "code",
   "execution_count": 64,
   "metadata": {
    "scrolled": true
   },
   "outputs": [
    {
     "data": {
      "text/plain": [
       "Index(['Player', 'Pos', 'GP', 'G', 'A', 'PTS', '+/-', 'PIM', 'EVG', 'PPG',\n",
       "       ...\n",
       "       'EVCFP60', 'EVCAP60', 'TKP60', 'GVP60', 'SATTP60', 'EVTOI%', 'PPTOI%',\n",
       "       'SHTOI%', 'EVEGFP60', 'EVEGAP60'],\n",
       "      dtype='object', length=102)"
      ]
     },
     "execution_count": 64,
     "metadata": {},
     "output_type": "execute_result"
    }
   ],
   "source": [
    "df.columns"
   ]
  },
  {
   "cell_type": "code",
   "execution_count": 65,
   "metadata": {
    "scrolled": true
   },
   "outputs": [
    {
     "data": {
      "text/plain": [
       "Player          0\n",
       "Pos             0\n",
       "GP              0\n",
       "G               0\n",
       "A               0\n",
       "PTS             0\n",
       "+/-             0\n",
       "PIM             0\n",
       "EVG             0\n",
       "PPG             0\n",
       "SHG             0\n",
       "GW              0\n",
       "EVA             0\n",
       "PPA             0\n",
       "SHA             0\n",
       "S               0\n",
       "S%              0\n",
       "TOI             0\n",
       "ATOI            0\n",
       "BLK             0\n",
       "HIT             0\n",
       "FOW             0\n",
       "FOL             0\n",
       "FO%           191\n",
       "CF              0\n",
       "CA              0\n",
       "CF%             0\n",
       "FF              0\n",
       "FA              0\n",
       "FF%             0\n",
       "FF% rel         0\n",
       "oiSH%           0\n",
       "oiSV%           0\n",
       "PDO             0\n",
       "oZS%            0\n",
       "dZS%            0\n",
       "TOI/60          0\n",
       "TOI(EV)         0\n",
       "TK              0\n",
       "GV              0\n",
       "E+/-            0\n",
       "SAtt.           0\n",
       "Thru%           0\n",
       "Shift           0\n",
       "EV_TOI          0\n",
       "EV_CF%_Rel      0\n",
       "EV_GFP60        0\n",
       "EV_GAP60        0\n",
       "PP_TOI          0\n",
       "PP_CF%_Rel     18\n",
       "dtype: int64"
      ]
     },
     "execution_count": 65,
     "metadata": {},
     "output_type": "execute_result"
    }
   ],
   "source": [
    "df.isna().sum().head(50)"
   ]
  },
  {
   "cell_type": "code",
   "execution_count": 66,
   "metadata": {},
   "outputs": [
    {
     "data": {
      "text/plain": [
       "SH_TOI         0\n",
       "SH_CF%_Rel    44\n",
       "SH_GFP60      20\n",
       "SH_GAP60      20\n",
       "GC             0\n",
       "GPG            0\n",
       "APG            0\n",
       "PTSPG          0\n",
       "GCPG           0\n",
       "PIMPG          0\n",
       "SPG            0\n",
       "AG             0\n",
       "AA             0\n",
       "APTS           0\n",
       "AGC            0\n",
       "TGF            0\n",
       "PGF            0\n",
       "TGA            0\n",
       "PGA            0\n",
       "xGF            0\n",
       "xGA            0\n",
       "OPS            0\n",
       "DPS            0\n",
       "PS             0\n",
       "GPP            0\n",
       "APP            0\n",
       "CFP60          0\n",
       "CAP60          0\n",
       "PIMP60         0\n",
       "FOWP60         0\n",
       "FOLP60         0\n",
       "EVG%          22\n",
       "SHG%          22\n",
       "PPG%          22\n",
       "EVA%           0\n",
       "PPA%           0\n",
       "SHA%           0\n",
       "SP60           0\n",
       "BLKP60         0\n",
       "HITP60         0\n",
       "EVCFP60        0\n",
       "EVCAP60        0\n",
       "TKP60          0\n",
       "GVP60          0\n",
       "SATTP60        0\n",
       "EVTOI%         0\n",
       "PPTOI%         0\n",
       "SHTOI%         0\n",
       "EVEGFP60       0\n",
       "EVEGAP60       0\n",
       "dtype: int64"
      ]
     },
     "execution_count": 66,
     "metadata": {},
     "output_type": "execute_result"
    }
   ],
   "source": [
    "df.isna().sum().tail(50)"
   ]
  },
  {
   "cell_type": "code",
   "execution_count": 67,
   "metadata": {},
   "outputs": [],
   "source": [
    "col_with_na = ['FO%', 'PP_CF%_Rel', 'PP_GFP60', 'PP_GAP60', 'SH_CF%_Rel', 'SH_GFP60', 'SH_GAP60', 'EVG%', 'SHG%', 'PPG%']"
   ]
  },
  {
   "cell_type": "code",
   "execution_count": 68,
   "metadata": {},
   "outputs": [],
   "source": [
    "for col in col_with_na:\n",
    "    df[col].fillna(0, inplace = True)"
   ]
  },
  {
   "cell_type": "markdown",
   "metadata": {},
   "source": [
    "# EDA "
   ]
  },
  {
   "cell_type": "code",
   "execution_count": 69,
   "metadata": {
    "scrolled": false
   },
   "outputs": [
    {
     "data": {
      "image/png": "[encoded data removed]",
      "text/plain": [
       "<Figure size 792x648 with 2 Axes>"
      ]
     },
     "metadata": {
      "needs_background": "light"
     },
     "output_type": "display_data"
    }
   ],
   "source": [
    "# Compute the correlation matrix\n",
    "corr = df.corr()>.8\n",
    "\n",
    "# Generate a mask for the upper triangle\n",
    "mask = np.triu(np.ones_like(corr, dtype=np.bool))\n",
    "\n",
    "# Set up the matplotlib figure\n",
    "f, ax = plt.subplots(figsize=(11, 9))\n",
    "\n",
    "# Generate a custom diverging colormap\n",
    "cmap = sns.diverging_palette(220, 10, as_cmap=True)\n",
    "\n",
    "# Draw the heatmap with the mask and correct aspect ratio\n",
    "sns.heatmap(corr, mask=mask, cmap=cmap, vmax=.3, center=0,\n",
    "            square=True, linewidths=.5, cbar_kws={\"shrink\": .5})\n",
    "\n",
    "plt.title('Correlation Heatmap')\n",
    "plt.show()"
   ]
  },
  {
   "cell_type": "code",
   "execution_count": 70,
   "metadata": {},
   "outputs": [
    {
     "data": {
      "image/png": "[encoded data removed]",
      "text/plain": [
       "<Figure size 180x180 with 1 Axes>"
      ]
     },
     "metadata": {
      "needs_background": "light"
     },
     "output_type": "display_data"
    }
   ],
   "source": [
    "sns.pairplot(df, x_vars = ['A'], y_vars = ['PS'])\n",
    "plt.title('Point Shares vs. Assists')\n",
    "plt.show()"
   ]
  },
  {
   "cell_type": "code",
   "execution_count": 71,
   "metadata": {
    "scrolled": false
   },
   "outputs": [
    {
     "data": {
      "image/png": "[encoded data removed]",
      "text/plain": [
       "<Figure size 432x288 with 1 Axes>"
      ]
     },
     "metadata": {
      "needs_background": "light"
     },
     "output_type": "display_data"
    }
   ],
   "source": [
    "plt.hist(df['G'])\n",
    "plt.xlabel('Goals')\n",
    "plt.title('Goals Histogram')\n",
    "plt.show()"
   ]
  },
  {
   "cell_type": "code",
   "execution_count": 72,
   "metadata": {},
   "outputs": [
    {
     "data": {
      "image/png": "[encoded data removed]",
      "text/plain": [
       "<Figure size 432x288 with 1 Axes>"
      ]
     },
     "metadata": {
      "needs_background": "light"
     },
     "output_type": "display_data"
    }
   ],
   "source": [
    "plt.hist(df['GPP'])\n",
    "plt.xlabel('Goals Per Point')\n",
    "plt.title('Goals Per Point Histogram')\n",
    "plt.show()"
   ]
  },
  {
   "cell_type": "code",
   "execution_count": 73,
   "metadata": {},
   "outputs": [
    {
     "data": {
      "image/png": "[encoded data removed]",
      "text/plain": [
       "<Figure size 180x180 with 1 Axes>"
      ]
     },
     "metadata": {
      "needs_background": "light"
     },
     "output_type": "display_data"
    }
   ],
   "source": [
    "sns.pairplot(df, x_vars = ['GP'], y_vars = ['PIM'])\n",
    "plt.title('Penalties in Minutes vs Goals')\n",
    "plt.show()"
   ]
  },
  {
   "cell_type": "code",
   "execution_count": 74,
   "metadata": {
    "scrolled": true
   },
   "outputs": [
    {
     "data": {
      "text/html": [
       "<div>\n",
       "<style scoped>\n",
       "    .dataframe tbody tr th:only-of-type {\n",
       "        vertical-align: middle;\n",
       "    }\n",
       "\n",
       "    .dataframe tbody tr th {\n",
       "        vertical-align: top;\n",
       "    }\n",
       "\n",
       "    .dataframe thead th {\n",
       "        text-align: right;\n",
       "    }\n",
       "</style>\n",
       "<table border=\"1\" class=\"dataframe\">\n",
       "  <thead>\n",
       "    <tr style=\"text-align: right;\">\n",
       "      <th></th>\n",
       "      <th>GP</th>\n",
       "      <th>G</th>\n",
       "      <th>A</th>\n",
       "      <th>PTS</th>\n",
       "      <th>+/-</th>\n",
       "      <th>PIM</th>\n",
       "      <th>EVG</th>\n",
       "      <th>PPG</th>\n",
       "      <th>SHG</th>\n",
       "      <th>GW</th>\n",
       "      <th>...</th>\n",
       "      <th>EVCFP60</th>\n",
       "      <th>EVCAP60</th>\n",
       "      <th>TKP60</th>\n",
       "      <th>GVP60</th>\n",
       "      <th>SATTP60</th>\n",
       "      <th>EVTOI%</th>\n",
       "      <th>PPTOI%</th>\n",
       "      <th>SHTOI%</th>\n",
       "      <th>EVEGFP60</th>\n",
       "      <th>EVEGAP60</th>\n",
       "    </tr>\n",
       "  </thead>\n",
       "  <tbody>\n",
       "    <tr>\n",
       "      <td>GP</td>\n",
       "      <td>True</td>\n",
       "      <td>False</td>\n",
       "      <td>False</td>\n",
       "      <td>False</td>\n",
       "      <td>False</td>\n",
       "      <td>False</td>\n",
       "      <td>False</td>\n",
       "      <td>False</td>\n",
       "      <td>False</td>\n",
       "      <td>False</td>\n",
       "      <td>...</td>\n",
       "      <td>False</td>\n",
       "      <td>False</td>\n",
       "      <td>False</td>\n",
       "      <td>False</td>\n",
       "      <td>False</td>\n",
       "      <td>False</td>\n",
       "      <td>False</td>\n",
       "      <td>False</td>\n",
       "      <td>False</td>\n",
       "      <td>False</td>\n",
       "    </tr>\n",
       "    <tr>\n",
       "      <td>G</td>\n",
       "      <td>False</td>\n",
       "      <td>True</td>\n",
       "      <td>False</td>\n",
       "      <td>True</td>\n",
       "      <td>False</td>\n",
       "      <td>False</td>\n",
       "      <td>True</td>\n",
       "      <td>True</td>\n",
       "      <td>False</td>\n",
       "      <td>False</td>\n",
       "      <td>...</td>\n",
       "      <td>False</td>\n",
       "      <td>False</td>\n",
       "      <td>False</td>\n",
       "      <td>False</td>\n",
       "      <td>False</td>\n",
       "      <td>False</td>\n",
       "      <td>False</td>\n",
       "      <td>False</td>\n",
       "      <td>False</td>\n",
       "      <td>False</td>\n",
       "    </tr>\n",
       "    <tr>\n",
       "      <td>A</td>\n",
       "      <td>False</td>\n",
       "      <td>False</td>\n",
       "      <td>True</td>\n",
       "      <td>True</td>\n",
       "      <td>False</td>\n",
       "      <td>False</td>\n",
       "      <td>False</td>\n",
       "      <td>False</td>\n",
       "      <td>False</td>\n",
       "      <td>False</td>\n",
       "      <td>...</td>\n",
       "      <td>False</td>\n",
       "      <td>False</td>\n",
       "      <td>False</td>\n",
       "      <td>False</td>\n",
       "      <td>False</td>\n",
       "      <td>False</td>\n",
       "      <td>False</td>\n",
       "      <td>False</td>\n",
       "      <td>False</td>\n",
       "      <td>False</td>\n",
       "    </tr>\n",
       "    <tr>\n",
       "      <td>PTS</td>\n",
       "      <td>False</td>\n",
       "      <td>True</td>\n",
       "      <td>True</td>\n",
       "      <td>True</td>\n",
       "      <td>False</td>\n",
       "      <td>False</td>\n",
       "      <td>True</td>\n",
       "      <td>False</td>\n",
       "      <td>False</td>\n",
       "      <td>False</td>\n",
       "      <td>...</td>\n",
       "      <td>False</td>\n",
       "      <td>False</td>\n",
       "      <td>False</td>\n",
       "      <td>False</td>\n",
       "      <td>False</td>\n",
       "      <td>False</td>\n",
       "      <td>False</td>\n",
       "      <td>False</td>\n",
       "      <td>False</td>\n",
       "      <td>False</td>\n",
       "    </tr>\n",
       "    <tr>\n",
       "      <td>+/-</td>\n",
       "      <td>False</td>\n",
       "      <td>False</td>\n",
       "      <td>False</td>\n",
       "      <td>False</td>\n",
       "      <td>True</td>\n",
       "      <td>False</td>\n",
       "      <td>False</td>\n",
       "      <td>False</td>\n",
       "      <td>False</td>\n",
       "      <td>False</td>\n",
       "      <td>...</td>\n",
       "      <td>False</td>\n",
       "      <td>False</td>\n",
       "      <td>False</td>\n",
       "      <td>False</td>\n",
       "      <td>False</td>\n",
       "      <td>False</td>\n",
       "      <td>False</td>\n",
       "      <td>False</td>\n",
       "      <td>False</td>\n",
       "      <td>False</td>\n",
       "    </tr>\n",
       "    <tr>\n",
       "      <td>...</td>\n",
       "      <td>...</td>\n",
       "      <td>...</td>\n",
       "      <td>...</td>\n",
       "      <td>...</td>\n",
       "      <td>...</td>\n",
       "      <td>...</td>\n",
       "      <td>...</td>\n",
       "      <td>...</td>\n",
       "      <td>...</td>\n",
       "      <td>...</td>\n",
       "      <td>...</td>\n",
       "      <td>...</td>\n",
       "      <td>...</td>\n",
       "      <td>...</td>\n",
       "      <td>...</td>\n",
       "      <td>...</td>\n",
       "      <td>...</td>\n",
       "      <td>...</td>\n",
       "      <td>...</td>\n",
       "      <td>...</td>\n",
       "      <td>...</td>\n",
       "    </tr>\n",
       "    <tr>\n",
       "      <td>EVTOI%</td>\n",
       "      <td>False</td>\n",
       "      <td>False</td>\n",
       "      <td>False</td>\n",
       "      <td>False</td>\n",
       "      <td>False</td>\n",
       "      <td>False</td>\n",
       "      <td>False</td>\n",
       "      <td>False</td>\n",
       "      <td>False</td>\n",
       "      <td>False</td>\n",
       "      <td>...</td>\n",
       "      <td>False</td>\n",
       "      <td>False</td>\n",
       "      <td>False</td>\n",
       "      <td>False</td>\n",
       "      <td>False</td>\n",
       "      <td>True</td>\n",
       "      <td>False</td>\n",
       "      <td>False</td>\n",
       "      <td>False</td>\n",
       "      <td>False</td>\n",
       "    </tr>\n",
       "    <tr>\n",
       "      <td>PPTOI%</td>\n",
       "      <td>False</td>\n",
       "      <td>False</td>\n",
       "      <td>False</td>\n",
       "      <td>False</td>\n",
       "      <td>False</td>\n",
       "      <td>False</td>\n",
       "      <td>False</td>\n",
       "      <td>False</td>\n",
       "      <td>False</td>\n",
       "      <td>False</td>\n",
       "      <td>...</td>\n",
       "      <td>False</td>\n",
       "      <td>False</td>\n",
       "      <td>False</td>\n",
       "      <td>False</td>\n",
       "      <td>False</td>\n",
       "      <td>False</td>\n",
       "      <td>True</td>\n",
       "      <td>False</td>\n",
       "      <td>False</td>\n",
       "      <td>False</td>\n",
       "    </tr>\n",
       "    <tr>\n",
       "      <td>SHTOI%</td>\n",
       "      <td>False</td>\n",
       "      <td>False</td>\n",
       "      <td>False</td>\n",
       "      <td>False</td>\n",
       "      <td>False</td>\n",
       "      <td>False</td>\n",
       "      <td>False</td>\n",
       "      <td>False</td>\n",
       "      <td>False</td>\n",
       "      <td>False</td>\n",
       "      <td>...</td>\n",
       "      <td>False</td>\n",
       "      <td>False</td>\n",
       "      <td>False</td>\n",
       "      <td>False</td>\n",
       "      <td>False</td>\n",
       "      <td>False</td>\n",
       "      <td>False</td>\n",
       "      <td>True</td>\n",
       "      <td>False</td>\n",
       "      <td>False</td>\n",
       "    </tr>\n",
       "    <tr>\n",
       "      <td>EVEGFP60</td>\n",
       "      <td>False</td>\n",
       "      <td>False</td>\n",
       "      <td>False</td>\n",
       "      <td>False</td>\n",
       "      <td>False</td>\n",
       "      <td>False</td>\n",
       "      <td>False</td>\n",
       "      <td>False</td>\n",
       "      <td>False</td>\n",
       "      <td>False</td>\n",
       "      <td>...</td>\n",
       "      <td>False</td>\n",
       "      <td>False</td>\n",
       "      <td>False</td>\n",
       "      <td>False</td>\n",
       "      <td>False</td>\n",
       "      <td>False</td>\n",
       "      <td>False</td>\n",
       "      <td>False</td>\n",
       "      <td>True</td>\n",
       "      <td>False</td>\n",
       "    </tr>\n",
       "    <tr>\n",
       "      <td>EVEGAP60</td>\n",
       "      <td>False</td>\n",
       "      <td>False</td>\n",
       "      <td>False</td>\n",
       "      <td>False</td>\n",
       "      <td>False</td>\n",
       "      <td>False</td>\n",
       "      <td>False</td>\n",
       "      <td>False</td>\n",
       "      <td>False</td>\n",
       "      <td>False</td>\n",
       "      <td>...</td>\n",
       "      <td>False</td>\n",
       "      <td>False</td>\n",
       "      <td>False</td>\n",
       "      <td>False</td>\n",
       "      <td>False</td>\n",
       "      <td>False</td>\n",
       "      <td>False</td>\n",
       "      <td>False</td>\n",
       "      <td>False</td>\n",
       "      <td>True</td>\n",
       "    </tr>\n",
       "  </tbody>\n",
       "</table>\n",
       "<p>100 rows × 100 columns</p>\n",
       "</div>"
      ],
      "text/plain": [
       "             GP      G      A    PTS    +/-    PIM    EVG    PPG    SHG  \\\n",
       "GP         True  False  False  False  False  False  False  False  False   \n",
       "G         False   True  False   True  False  False   True   True  False   \n",
       "A         False  False   True   True  False  False  False  False  False   \n",
       "PTS       False   True   True   True  False  False   True  False  False   \n",
       "+/-       False  False  False  False   True  False  False  False  False   \n",
       "...         ...    ...    ...    ...    ...    ...    ...    ...    ...   \n",
       "EVTOI%    False  False  False  False  False  False  False  False  False   \n",
       "PPTOI%    False  False  False  False  False  False  False  False  False   \n",
       "SHTOI%    False  False  False  False  False  False  False  False  False   \n",
       "EVEGFP60  False  False  False  False  False  False  False  False  False   \n",
       "EVEGAP60  False  False  False  False  False  False  False  False  False   \n",
       "\n",
       "             GW  ...  EVCFP60  EVCAP60  TKP60  GVP60  SATTP60  EVTOI%  PPTOI%  \\\n",
       "GP        False  ...    False    False  False  False    False   False   False   \n",
       "G         False  ...    False    False  False  False    False   False   False   \n",
       "A         False  ...    False    False  False  False    False   False   False   \n",
       "PTS       False  ...    False    False  False  False    False   False   False   \n",
       "+/-       False  ...    False    False  False  False    False   False   False   \n",
       "...         ...  ...      ...      ...    ...    ...      ...     ...     ...   \n",
       "EVTOI%    False  ...    False    False  False  False    False    True   False   \n",
       "PPTOI%    False  ...    False    False  False  False    False   False    True   \n",
       "SHTOI%    False  ...    False    False  False  False    False   False   False   \n",
       "EVEGFP60  False  ...    False    False  False  False    False   False   False   \n",
       "EVEGAP60  False  ...    False    False  False  False    False   False   False   \n",
       "\n",
       "          SHTOI%  EVEGFP60  EVEGAP60  \n",
       "GP         False     False     False  \n",
       "G          False     False     False  \n",
       "A          False     False     False  \n",
       "PTS        False     False     False  \n",
       "+/-        False     False     False  \n",
       "...          ...       ...       ...  \n",
       "EVTOI%     False     False     False  \n",
       "PPTOI%     False     False     False  \n",
       "SHTOI%      True     False     False  \n",
       "EVEGFP60   False      True     False  \n",
       "EVEGAP60   False     False      True  \n",
       "\n",
       "[100 rows x 100 columns]"
      ]
     },
     "execution_count": 74,
     "metadata": {},
     "output_type": "execute_result"
    }
   ],
   "source": [
    "df.corr()>.8"
   ]
  },
  {
   "cell_type": "code",
   "execution_count": 75,
   "metadata": {
    "scrolled": true
   },
   "outputs": [
    {
     "data": {
      "text/plain": [
       "Index(['Player', 'Pos', 'GP', 'G', 'A', 'PTS', '+/-', 'PIM', 'EVG', 'PPG',\n",
       "       ...\n",
       "       'EVCFP60', 'EVCAP60', 'TKP60', 'GVP60', 'SATTP60', 'EVTOI%', 'PPTOI%',\n",
       "       'SHTOI%', 'EVEGFP60', 'EVEGAP60'],\n",
       "      dtype='object', length=102)"
      ]
     },
     "execution_count": 75,
     "metadata": {},
     "output_type": "execute_result"
    }
   ],
   "source": [
    "df.columns"
   ]
  },
  {
   "cell_type": "code",
   "execution_count": 76,
   "metadata": {},
   "outputs": [],
   "source": [
    "remove_columns = ['GP', 'G', 'A', 'PTS', '+/-', 'PIM', 'EVG', 'PPG', 'SHG', 'GW', 'EVA', \n",
    "                  'PPA', 'SHA', 'S', 'TOI', 'ATOI', 'BLK', 'HIT', 'FOW', 'FOL', 'CF', 'CA', \n",
    "                  'CF%', 'FF', 'FA', 'FF%', 'FF% rel', 'oiSH%', 'oiSV%', 'PDO', 'dZS%', 'TOI/60',\n",
    "                  'TOI(EV)', 'TK', 'GV', 'E+/-', 'SAtt.', 'Shift', 'EV_TOI', 'EV_CF%_Rel', 'EV_GFP60',\n",
    "                  'EV_GAP60', 'PP_TOI', 'PP_CF%_Rel', 'PP_GFP60', 'PP_GAP60', 'SH_TOI', 'SH_CF%_Rel', \n",
    "                  'SH_GFP60', 'SH_GAP60', 'GC', 'GPG', 'APG', 'PTSPG', 'GCPG', 'PIMPG', 'SPG', 'AG', 'AA',\n",
    "                  'APTS', 'AGC', 'TGF', 'PGF', 'TGA', 'PGA', 'OPS', 'DPS', 'PS', 'xGF', 'xGA', 'FO%', 'FOWP60',\n",
    "                  'FOLP60']"
   ]
  },
  {
   "cell_type": "code",
   "execution_count": 77,
   "metadata": {},
   "outputs": [],
   "source": [
    "df.drop(remove_columns, axis = 1, inplace = True)"
   ]
  },
  {
   "cell_type": "code",
   "execution_count": 78,
   "metadata": {},
   "outputs": [
    {
     "data": {
      "text/plain": [
       "Index(['Player', 'Pos', 'S%', 'oZS%', 'Thru%', 'GPP', 'APP', 'CFP60', 'CAP60',\n",
       "       'PIMP60', 'EVG%', 'SHG%', 'PPG%', 'EVA%', 'PPA%', 'SHA%', 'SP60',\n",
       "       'BLKP60', 'HITP60', 'EVCFP60', 'EVCAP60', 'TKP60', 'GVP60', 'SATTP60',\n",
       "       'EVTOI%', 'PPTOI%', 'SHTOI%', 'EVEGFP60', 'EVEGAP60'],\n",
       "      dtype='object')"
      ]
     },
     "execution_count": 78,
     "metadata": {},
     "output_type": "execute_result"
    }
   ],
   "source": [
    "df.columns"
   ]
  },
  {
   "cell_type": "code",
   "execution_count": 79,
   "metadata": {},
   "outputs": [
    {
     "name": "stdout",
     "output_type": "stream",
     "text": [
      "('S%', 'S%')\n",
      "('oZS%', 'oZS%')\n",
      "('Thru%', 'Thru%')\n",
      "('GPP', 'GPP')\n",
      "('APP', 'APP')\n",
      "('CFP60', 'CFP60')\n",
      "('CFP60', 'EVCFP60')\n",
      "('CAP60', 'CAP60')\n",
      "('CAP60', 'EVCAP60')\n",
      "('PIMP60', 'PIMP60')\n",
      "('EVG%', 'EVG%')\n",
      "('SHG%', 'SHG%')\n",
      "('PPG%', 'PPG%')\n",
      "('EVA%', 'EVA%')\n",
      "('PPA%', 'PPA%')\n",
      "('SHA%', 'SHA%')\n",
      "('SP60', 'SP60')\n",
      "('SP60', 'SATTP60')\n",
      "('BLKP60', 'BLKP60')\n",
      "('HITP60', 'HITP60')\n",
      "('EVCFP60', 'CFP60')\n",
      "('EVCFP60', 'EVCFP60')\n",
      "('EVCAP60', 'CAP60')\n",
      "('EVCAP60', 'EVCAP60')\n",
      "('TKP60', 'TKP60')\n",
      "('GVP60', 'GVP60')\n",
      "('SATTP60', 'SP60')\n",
      "('SATTP60', 'SATTP60')\n",
      "('EVTOI%', 'EVTOI%')\n",
      "('PPTOI%', 'PPTOI%')\n",
      "('SHTOI%', 'SHTOI%')\n",
      "('EVEGFP60', 'EVEGFP60')\n",
      "('EVEGAP60', 'EVEGAP60')\n"
     ]
    }
   ],
   "source": [
    "for col1 in df.columns[2:]:\n",
    "    for col2 in df.columns[2:]:\n",
    "        if stats.pearsonr(df[col1], df[col2])[0] > .9:\n",
    "            print((col1, col2))"
   ]
  },
  {
   "cell_type": "markdown",
   "metadata": {},
   "source": [
    "# Baseline KMeans Model "
   ]
  },
  {
   "cell_type": "code",
   "execution_count": 80,
   "metadata": {},
   "outputs": [],
   "source": [
    "X = df.drop(['Player', 'Pos'], axis = 1)"
   ]
  },
  {
   "cell_type": "code",
   "execution_count": 81,
   "metadata": {},
   "outputs": [],
   "source": [
    "scaler = MinMaxScaler()\n",
    "scaler.fit(X)\n",
    "X_scaled = scaler.transform(X)"
   ]
  },
  {
   "cell_type": "code",
   "execution_count": 82,
   "metadata": {},
   "outputs": [
    {
     "name": "stdout",
     "output_type": "stream",
     "text": [
      "2 0.1744770229572277\n",
      "3 0.07306135320566769\n",
      "4 0.04457866237245184\n",
      "5 0.019663874195119682\n",
      "6 0.00043696249838993663\n",
      "7 -0.010474279746823951\n",
      "8 0.01624808451628831\n",
      "9 0.009149892159025789\n",
      "10 0.009950699756287066\n",
      "11 -0.016916166488332558\n",
      "12 -0.012149906882594624\n",
      "13 -0.015387866468995886\n",
      "14 -0.01746028613998952\n",
      "15 -0.027615960853153935\n",
      "16 -0.06633144225333268\n",
      "17 -0.029141859465002275\n",
      "18 -0.0484301682903246\n",
      "19 -0.03808673201326801\n",
      "20 -0.039483131633375884\n"
     ]
    }
   ],
   "source": [
    "k_means_sil_score_max = 0\n",
    "k_means_sil_score_max_index = 0\n",
    "num_clusters = [2, 3, 4, 5, 6, 7, 8, 9, 10, 11, 12, 13, 14, 15, 16, 17, 18, 19, 20]\n",
    "for num in num_clusters:\n",
    "    k_means = KMeans(n_clusters = num)\n",
    "    k_means.fit(X_scaled)\n",
    "    labels = k_means.labels_\n",
    "# #     if metrics.silhouette_score(X, k_means, metric='euclidean') > k_means_sil_score_max:\n",
    "# #         k_means_sil_score_max = metrics.silhouette_score(X, k_means, metric='euclidean')\n",
    "# #         k_means_sil_score_max_index = num\n",
    "    print(num, metrics.silhouette_score(X, labels, metric='euclidean'))\n",
    "# print(k_means_sil_score_max_index)"
   ]
  },
  {
   "cell_type": "code",
   "execution_count": 83,
   "metadata": {},
   "outputs": [],
   "source": [
    "k_means = KMeans(n_clusters = 3)\n",
    "k_means.fit(X_scaled)\n",
    "y_hat = k_means.predict(X_scaled)"
   ]
  },
  {
   "cell_type": "code",
   "execution_count": 84,
   "metadata": {},
   "outputs": [
    {
     "data": {
      "text/plain": [
       "array([1, 1, 1, 1, 1, 1, 1, 1, 1, 1, 1, 1, 1, 1, 1, 1, 1, 1, 1, 1, 1, 1,\n",
       "       1, 1, 1, 1, 1, 1, 1, 1, 1, 1, 1, 1, 1, 1, 1, 1, 1, 1, 1, 1, 1, 1,\n",
       "       1, 1, 1, 1, 1, 1, 1, 1, 1, 1, 1, 1, 1, 1, 1, 1, 1, 1, 1, 1, 1, 1,\n",
       "       1, 1, 1, 1, 1, 1, 1, 1, 1, 1, 1, 1, 1, 1, 1, 1, 1, 1, 1, 1, 1, 1,\n",
       "       1, 1, 1, 1, 1, 1, 0, 1, 1, 1, 1, 1, 1, 1, 1, 1, 1, 1, 1, 2, 1, 0,\n",
       "       1, 1, 1, 1, 1, 1, 1, 1, 1, 0, 1, 2, 1, 2, 1, 2, 1, 1, 0, 2, 1, 0,\n",
       "       2, 1, 0, 1, 2, 1, 1, 1, 1, 0, 1, 1, 1, 1, 1, 1, 1, 1, 1, 0, 1, 1,\n",
       "       1, 1, 1, 1, 0, 2, 2, 1, 0, 2, 1, 1, 2, 1, 0, 2, 1, 1, 2, 1, 2, 1,\n",
       "       1, 1, 1, 1, 2, 1, 1, 1, 0, 0, 1, 2, 1, 1, 1, 2, 1, 1, 1, 1, 1, 1,\n",
       "       2, 2, 1, 1, 2, 2, 1, 2, 2, 1, 2, 2, 2, 0, 2, 2, 0, 0, 0, 1, 1, 1,\n",
       "       1, 1, 2, 1, 1, 1, 1, 2, 0, 1, 1, 1, 2, 1, 2, 1, 2, 1, 0, 0, 2, 1,\n",
       "       2, 2, 2, 0, 2, 0, 1, 2, 1, 1, 0, 2, 2, 2, 2, 1, 2, 0, 2, 0, 1, 2,\n",
       "       1, 1, 1, 0, 0, 2, 2, 0, 1, 1, 1, 1, 2, 2, 1, 0, 1, 1, 2, 1, 0, 0,\n",
       "       2, 1, 2, 1, 0, 0, 2, 2, 1, 0, 1, 1, 0, 2, 1, 1, 2, 0, 2, 2, 2, 1,\n",
       "       2, 0, 0, 2, 2, 2, 1, 0, 0, 0, 2, 0, 0, 2, 2, 0, 0, 2, 0, 2, 0, 2,\n",
       "       0, 1, 1, 1, 1, 0, 1, 1, 2, 2, 1, 0, 0, 0, 2, 2, 0, 2, 2, 1, 2, 1,\n",
       "       0, 0, 2, 0, 1, 2, 1, 0, 0, 2, 2, 0, 2, 1, 1, 0, 2, 0, 2, 1, 2, 0,\n",
       "       0, 0, 2, 0, 1, 1, 2, 2, 0, 0, 2, 1, 0, 0, 0, 0, 0, 0, 2, 2, 2, 0,\n",
       "       1, 2, 2, 2, 2, 0, 1, 1, 1, 0, 2, 2, 2, 2, 0, 2, 1, 0, 2, 0, 0, 0,\n",
       "       2, 0, 2, 0, 0, 2, 2, 2, 0, 2, 0, 2, 0, 0, 0, 2, 0, 2, 2, 0, 1, 0,\n",
       "       0, 2, 0, 0, 2, 0, 2, 1, 0, 2, 0, 0, 0, 2, 0, 0, 1, 2, 2, 1, 0, 2,\n",
       "       0, 0, 0, 1, 0, 2, 0, 1, 0, 2, 2, 0, 2, 2, 0, 0, 0, 0, 2, 0, 1, 2,\n",
       "       0, 0, 2, 2, 2, 0, 2, 1, 0, 0, 0, 0, 0, 2, 0, 0, 0, 0, 0, 0, 0, 2,\n",
       "       0, 0, 1, 0, 0, 0, 0, 2, 0, 1, 0, 0, 2, 0, 0, 0, 0, 0, 0, 2, 1, 2,\n",
       "       0, 0, 2, 0, 0, 0, 0, 0, 0, 2, 0, 0, 0, 0, 0, 0, 0, 0, 0, 2, 1, 0,\n",
       "       2, 0, 0, 0, 0, 1, 0, 0, 0, 2, 0, 0, 0, 0, 2, 0, 0, 0, 0, 2, 0, 0,\n",
       "       0, 2, 0, 0, 2, 0, 0], dtype=int32)"
      ]
     },
     "execution_count": 84,
     "metadata": {},
     "output_type": "execute_result"
    }
   ],
   "source": [
    "y_hat"
   ]
  },
  {
   "cell_type": "code",
   "execution_count": 85,
   "metadata": {},
   "outputs": [],
   "source": [
    "df['y_hat'] = y_hat"
   ]
  },
  {
   "cell_type": "code",
   "execution_count": 86,
   "metadata": {},
   "outputs": [],
   "source": [
    "df_0 = df.loc[df['y_hat'] == 0]"
   ]
  },
  {
   "cell_type": "code",
   "execution_count": 87,
   "metadata": {},
   "outputs": [],
   "source": [
    "df_1 = df.loc[df['y_hat'] == 1]"
   ]
  },
  {
   "cell_type": "code",
   "execution_count": 88,
   "metadata": {},
   "outputs": [],
   "source": [
    "df_2 = df.loc[df['y_hat'] == 2]"
   ]
  },
  {
   "cell_type": "code",
   "execution_count": 89,
   "metadata": {},
   "outputs": [
    {
     "name": "stdout",
     "output_type": "stream",
     "text": [
      "{'S%': [3.9416216216216218, 11.197983870967741, 9.865753424657536], 'oZS%': [48.711891891891895, 54.84959677419354, 43.96917808219178], 'Thru%': [47.236756756756755, 56.4524193548387, 58.779452054794525], 'GPP': [0.18696980329035237, 0.39885124248742937, 0.44794686307597736], 'APP': [0.8130301967096477, 0.6011487575125707, 0.5520531369240227], 'CFP60': [49.24410936223688, 50.2887948009496, 46.700879747447026], 'CAP60': [51.23164847962256, 46.88654656270775, 49.330854700654186], 'PIMP60': [1.6224866933493183, 1.476739984158046, 1.8072902250552327], 'EVG%': [0.7640142740142741, 0.7218839749840231, 0.8776120869770663], 'SHG%': [0.032788892788892784, 0.016035100921041955, 0.06105908982122295], 'PPG%': [0.08427791427791427, 0.262080924094935, 0.061328823201710736], 'EVA%': [0.8897929086395702, 0.6825378909781259, 0.9141330421027835], 'PPA%': [0.07880436141483839, 0.30652177181420326, 0.0510571344205958], 'SHA%': [0.03140272994559145, 0.010940337207670804, 0.034809823476620934], 'SP60': [4.228976265014632, 7.845622320662704, 6.397876187628925], 'BLKP60': [4.556606754440859, 1.983399427272895, 2.3400528881614857], 'HITP60': [4.7372773757252595, 3.1137362504916815, 6.363999004232307], 'EVCFP60': [49.24410936223688, 50.2887948009496, 46.700879747447026], 'EVCAP60': [51.23164847962256, 46.88654656270775, 49.330854700654186], 'TKP60': [1.0231089593090688, 1.8132617680485408, 1.6688203115626639], 'GVP60': [2.150769773085065, 2.1434933866283106, 1.4603458771306583], 'SATTP60': [8.976992300226268, 13.890674514511412, 10.871666349916735], 'EVTOI%': [59.76169191024518, 44.18973107184148, 49.15267550774805], 'PPTOI%': [1.8948654351631824, 7.257183631956212, 2.461564927194652], 'SHTOI%': [5.116893279177803, 1.6960585093944112, 5.21202162604453], 'EVEGFP60': [2.2049805706409975, 2.2979552718337373, 2.057766752598129], 'EVEGAP60': [2.2905926133948267, 2.1273991699325268, 2.1866748416724033], 'y_hat': [0.0, 1.0, 2.0]}\n"
     ]
    }
   ],
   "source": [
    "mean_dict = {}\n",
    "for var in df.columns[2:]:\n",
    "    mean_dict[var] = [df_0[var].mean(), df_1[var].mean(), df_2[var].mean()]\n",
    "print(mean_dict)"
   ]
  },
  {
   "cell_type": "code",
   "execution_count": 90,
   "metadata": {},
   "outputs": [
    {
     "data": {
      "image/png": "[encoded data removed]",
      "text/plain": [
       "<Figure size 432x288 with 1 Axes>"
      ]
     },
     "metadata": {
      "needs_background": "light"
     },
     "output_type": "display_data"
    },
    {
     "data": {
      "image/png": "[encoded data removed]",
      "text/plain": [
       "<Figure size 432x288 with 1 Axes>"
      ]
     },
     "metadata": {
      "needs_background": "light"
     },
     "output_type": "display_data"
    },
    {
     "data": {
      "image/png": "[encoded data removed]",
      "text/plain": [
       "<Figure size 432x288 with 1 Axes>"
      ]
     },
     "metadata": {
      "needs_background": "light"
     },
     "output_type": "display_data"
    },
    {
     "data": {
      "image/png": "[encoded data removed]",
      "text/plain": [
       "<Figure size 432x288 with 1 Axes>"
      ]
     },
     "metadata": {
      "needs_background": "light"
     },
     "output_type": "display_data"
    },
    {
     "data": {
      "image/png": "[encoded data removed]",
      "text/plain": [
       "<Figure size 432x288 with 1 Axes>"
      ]
     },
     "metadata": {
      "needs_background": "light"
     },
     "output_type": "display_data"
    },
    {
     "data": {
      "image/png": "[encoded data removed]",
      "text/plain": [
       "<Figure size 432x288 with 1 Axes>"
      ]
     },
     "metadata": {
      "needs_background": "light"
     },
     "output_type": "display_data"
    },
    {
     "data": {
      "image/png": "[encoded data removed]",
      "text/plain": [
       "<Figure size 432x288 with 1 Axes>"
      ]
     },
     "metadata": {
      "needs_background": "light"
     },
     "output_type": "display_data"
    },
    {
     "data": {
      "image/png": "[encoded data removed]",
      "text/plain": [
       "<Figure size 432x288 with 1 Axes>"
      ]
     },
     "metadata": {
      "needs_background": "light"
     },
     "output_type": "display_data"
    },
    {
     "data": {
      "image/png": "[encoded data removed]",
      "text/plain": [
       "<Figure size 432x288 with 1 Axes>"
      ]
     },
     "metadata": {
      "needs_background": "light"
     },
     "output_type": "display_data"
    },
    {
     "data": {
      "image/png": "[encoded data removed]",
      "text/plain": [
       "<Figure size 432x288 with 1 Axes>"
      ]
     },
     "metadata": {
      "needs_background": "light"
     },
     "output_type": "display_data"
    },
    {
     "data": {
      "image/png": "[encoded data removed]",
      "text/plain": [
       "<Figure size 432x288 with 1 Axes>"
      ]
     },
     "metadata": {
      "needs_background": "light"
     },
     "output_type": "display_data"
    },
    {
     "data": {
      "image/png": "[encoded data removed]",
      "text/plain": [
       "<Figure size 432x288 with 1 Axes>"
      ]
     },
     "metadata": {
      "needs_background": "light"
     },
     "output_type": "display_data"
    },
    {
     "data": {
      "image/png": "[encoded data removed]",
      "text/plain": [
       "<Figure size 432x288 with 1 Axes>"
      ]
     },
     "metadata": {
      "needs_background": "light"
     },
     "output_type": "display_data"
    },
    {
     "data": {
      "image/png": "[encoded data removed]",
      "text/plain": [
       "<Figure size 432x288 with 1 Axes>"
      ]
     },
     "metadata": {
      "needs_background": "light"
     },
     "output_type": "display_data"
    },
    {
     "data": {
      "image/png": "[encoded data removed]",
      "text/plain": [
       "<Figure size 432x288 with 1 Axes>"
      ]
     },
     "metadata": {
      "needs_background": "light"
     },
     "output_type": "display_data"
    },
    {
     "data": {
      "image/png": "[encoded data removed]",
      "text/plain": [
       "<Figure size 432x288 with 1 Axes>"
      ]
     },
     "metadata": {
      "needs_background": "light"
     },
     "output_type": "display_data"
    },
    {
     "data": {
      "image/png": "[encoded data removed]",
      "text/plain": [
       "<Figure size 432x288 with 1 Axes>"
      ]
     },
     "metadata": {
      "needs_background": "light"
     },
     "output_type": "display_data"
    },
    {
     "data": {
      "image/png": "[encoded data removed]",
      "text/plain": [
       "<Figure size 432x288 with 1 Axes>"
      ]
     },
     "metadata": {
      "needs_background": "light"
     },
     "output_type": "display_data"
    },
    {
     "data": {
      "image/png": "[encoded data removed]",
      "text/plain": [
       "<Figure size 432x288 with 1 Axes>"
      ]
     },
     "metadata": {
      "needs_background": "light"
     },
     "output_type": "display_data"
    },
    {
     "data": {
      "image/png": "[encoded data removed]",
      "text/plain": [
       "<Figure size 432x288 with 1 Axes>"
      ]
     },
     "metadata": {
      "needs_background": "light"
     },
     "output_type": "display_data"
    },
    {
     "data": {
      "image/png": "[encoded data removed]",
      "text/plain": [
       "<Figure size 432x288 with 1 Axes>"
      ]
     },
     "metadata": {
      "needs_background": "light"
     },
     "output_type": "display_data"
    },
    {
     "data": {
      "image/png": "[encoded data removed]",
      "text/plain": [
       "<Figure size 432x288 with 1 Axes>"
      ]
     },
     "metadata": {
      "needs_background": "light"
     },
     "output_type": "display_data"
    },
    {
     "data": {
      "image/png": "[encoded data removed]",
      "text/plain": [
       "<Figure size 432x288 with 1 Axes>"
      ]
     },
     "metadata": {
      "needs_background": "light"
     },
     "output_type": "display_data"
    },
    {
     "data": {
      "image/png": "[encoded data removed]",
      "text/plain": [
       "<Figure size 432x288 with 1 Axes>"
      ]
     },
     "metadata": {
      "needs_background": "light"
     },
     "output_type": "display_data"
    },
    {
     "data": {
      "image/png": "[encoded data removed]",
      "text/plain": [
       "<Figure size 432x288 with 1 Axes>"
      ]
     },
     "metadata": {
      "needs_background": "light"
     },
     "output_type": "display_data"
    },
    {
     "data": {
      "image/png": "[encoded data removed]",
      "text/plain": [
       "<Figure size 432x288 with 1 Axes>"
      ]
     },
     "metadata": {
      "needs_background": "light"
     },
     "output_type": "display_data"
    },
    {
     "data": {
      "image/png": "[encoded data removed]",
      "text/plain": [
       "<Figure size 432x288 with 1 Axes>"
      ]
     },
     "metadata": {
      "needs_background": "light"
     },
     "output_type": "display_data"
    },
    {
     "data": {
      "image/png": "[encoded data removed]",
      "text/plain": [
       "<Figure size 432x288 with 1 Axes>"
      ]
     },
     "metadata": {
      "needs_background": "light"
     },
     "output_type": "display_data"
    }
   ],
   "source": [
    "for key, value in mean_dict.items(): \n",
    "    plt.bar(['0','1','2'], value)\n",
    "    plt.title(key)\n",
    "    plt.xlabel(key)\n",
    "    plt.show()"
   ]
  },
  {
   "cell_type": "code",
   "execution_count": 91,
   "metadata": {},
   "outputs": [],
   "source": [
    "agg_clust = AgglomerativeClustering(n_clusters=3)\n",
    "assigned_clust = agg_clust.fit_predict(X)"
   ]
  },
  {
   "cell_type": "code",
   "execution_count": null,
   "metadata": {},
   "outputs": [],
   "source": []
  }
 ],
 "metadata": {
  "kernelspec": {
   "display_name": "Python 3",
   "language": "python",
   "name": "python3"
  },
  "language_info": {
   "codemirror_mode": {
    "name": "ipython",
    "version": 3
   },
   "file_extension": ".py",
   "mimetype": "text/x-python",
   "name": "python",
   "nbconvert_exporter": "python",
   "pygments_lexer": "ipython3",
   "version": "3.6.9"
  },
  "toc": {
   "base_numbering": 1,
   "nav_menu": {},
   "number_sections": true,
   "sideBar": true,
   "skip_h1_title": false,
   "title_cell": "Table of Contents",
   "title_sidebar": "Contents",
   "toc_cell": false,
   "toc_position": {},
   "toc_section_display": true,
   "toc_window_display": false
  },
  "varInspector": {
   "cols": {
    "lenName": 16,
    "lenType": 16,
    "lenVar": 40
   },
   "kernels_config": {
    "python": {
     "delete_cmd_postfix": "",
     "delete_cmd_prefix": "del ",
     "library": "var_list.py",
     "varRefreshCmd": "print(var_dic_list())"
    },
    "r": {
     "delete_cmd_postfix": ") ",
     "delete_cmd_prefix": "rm(",
     "library": "var_list.r",
     "varRefreshCmd": "cat(var_dic_list()) "
    }
   },
   "types_to_exclude": [
    "module",
    "function",
    "builtin_function_or_method",
    "instance",
    "_Feature"
   ],
   "window_display": false
  }
 },
 "nbformat": 4,
 "nbformat_minor": 2
}
